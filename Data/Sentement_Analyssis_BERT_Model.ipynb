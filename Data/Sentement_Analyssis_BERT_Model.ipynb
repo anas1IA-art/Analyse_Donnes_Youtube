{
  "cells": [
    {
      "cell_type": "markdown",
      "metadata": {
        "id": "R1xL0UlzsoLF"
      },
      "source": [
        "# 1. Install and Import Dependencies"
      ]
    },
    {
      "cell_type": "code",
      "execution_count": 2,
      "metadata": {
        "colab": {
          "base_uri": "https://localhost:8080/"
        },
        "id": "OEUZCQqisoLL",
        "outputId": "dd3fb3cb-2564-443d-d5fb-36de8a2b3859"
      },
      "outputs": [
        {
          "output_type": "stream",
          "name": "stdout",
          "text": [
            "Looking in indexes: https://pypi.org/simple, https://us-python.pkg.dev/colab-wheels/public/simple/\n",
            "Collecting transformers\n",
            "  Downloading transformers-4.28.1-py3-none-any.whl (7.0 MB)\n",
            "\u001b[2K     \u001b[90m━━━━━━━━━━━━━━━━━━━━━━━━━━━━━━━━━━━━━━━━\u001b[0m \u001b[32m7.0/7.0 MB\u001b[0m \u001b[31m93.6 MB/s\u001b[0m eta \u001b[36m0:00:00\u001b[0m\n",
            "\u001b[?25hRequirement already satisfied: requests in /usr/local/lib/python3.10/dist-packages (2.27.1)\n",
            "Requirement already satisfied: beautifulsoup4 in /usr/local/lib/python3.10/dist-packages (4.11.2)\n",
            "Requirement already satisfied: pandas in /usr/local/lib/python3.10/dist-packages (1.5.3)\n",
            "Requirement already satisfied: numpy in /usr/local/lib/python3.10/dist-packages (1.22.4)\n",
            "Requirement already satisfied: filelock in /usr/local/lib/python3.10/dist-packages (from transformers) (3.12.0)\n",
            "Collecting huggingface-hub<1.0,>=0.11.0\n",
            "  Downloading huggingface_hub-0.14.1-py3-none-any.whl (224 kB)\n",
            "\u001b[2K     \u001b[90m━━━━━━━━━━━━━━━━━━━━━━━━━━━━━━━━━━━━━━\u001b[0m \u001b[32m224.5/224.5 kB\u001b[0m \u001b[31m25.5 MB/s\u001b[0m eta \u001b[36m0:00:00\u001b[0m\n",
            "\u001b[?25hRequirement already satisfied: tqdm>=4.27 in /usr/local/lib/python3.10/dist-packages (from transformers) (4.65.0)\n",
            "Requirement already satisfied: pyyaml>=5.1 in /usr/local/lib/python3.10/dist-packages (from transformers) (6.0)\n",
            "Requirement already satisfied: regex!=2019.12.17 in /usr/local/lib/python3.10/dist-packages (from transformers) (2022.10.31)\n",
            "Requirement already satisfied: packaging>=20.0 in /usr/local/lib/python3.10/dist-packages (from transformers) (23.1)\n",
            "Collecting tokenizers!=0.11.3,<0.14,>=0.11.1\n",
            "  Downloading tokenizers-0.13.3-cp310-cp310-manylinux_2_17_x86_64.manylinux2014_x86_64.whl (7.8 MB)\n",
            "\u001b[2K     \u001b[90m━━━━━━━━━━━━━━━━━━━━━━━━━━━━━━━━━━━━━━━━\u001b[0m \u001b[32m7.8/7.8 MB\u001b[0m \u001b[31m136.9 MB/s\u001b[0m eta \u001b[36m0:00:00\u001b[0m\n",
            "\u001b[?25hRequirement already satisfied: urllib3<1.27,>=1.21.1 in /usr/local/lib/python3.10/dist-packages (from requests) (1.26.15)\n",
            "Requirement already satisfied: charset-normalizer~=2.0.0 in /usr/local/lib/python3.10/dist-packages (from requests) (2.0.12)\n",
            "Requirement already satisfied: certifi>=2017.4.17 in /usr/local/lib/python3.10/dist-packages (from requests) (2022.12.7)\n",
            "Requirement already satisfied: idna<4,>=2.5 in /usr/local/lib/python3.10/dist-packages (from requests) (3.4)\n",
            "Requirement already satisfied: soupsieve>1.2 in /usr/local/lib/python3.10/dist-packages (from beautifulsoup4) (2.4.1)\n",
            "Requirement already satisfied: pytz>=2020.1 in /usr/local/lib/python3.10/dist-packages (from pandas) (2022.7.1)\n",
            "Requirement already satisfied: python-dateutil>=2.8.1 in /usr/local/lib/python3.10/dist-packages (from pandas) (2.8.2)\n",
            "Requirement already satisfied: typing-extensions>=3.7.4.3 in /usr/local/lib/python3.10/dist-packages (from huggingface-hub<1.0,>=0.11.0->transformers) (4.5.0)\n",
            "Requirement already satisfied: fsspec in /usr/local/lib/python3.10/dist-packages (from huggingface-hub<1.0,>=0.11.0->transformers) (2023.4.0)\n",
            "Requirement already satisfied: six>=1.5 in /usr/local/lib/python3.10/dist-packages (from python-dateutil>=2.8.1->pandas) (1.16.0)\n",
            "Installing collected packages: tokenizers, huggingface-hub, transformers\n",
            "Successfully installed huggingface-hub-0.14.1 tokenizers-0.13.3 transformers-4.28.1\n"
          ]
        }
      ],
      "source": [
        "!pip install transformers requests beautifulsoup4 pandas numpy"
      ]
    },
    {
      "cell_type": "code",
      "execution_count": 3,
      "metadata": {
        "id": "GtELkyOisoLM"
      },
      "outputs": [],
      "source": [
        "from transformers import AutoTokenizer, AutoModelForSequenceClassification\n",
        "import torch\n",
        "import requests\n",
        "from bs4 import BeautifulSoup\n",
        "import re"
      ]
    },
    {
      "cell_type": "markdown",
      "metadata": {
        "id": "yoR1XF5BsoLM"
      },
      "source": [
        "# 2. Instantiate Model"
      ]
    },
    {
      "cell_type": "code",
      "execution_count": 4,
      "metadata": {
        "colab": {
          "base_uri": "https://localhost:8080/",
          "height": 177,
          "referenced_widgets": [
            "9f38e7e1b2a4431bbc4b8d55a389881b",
            "e970e26ae31e4df78423d98db194fe02",
            "d71e6941542c469592510f4dae166b01",
            "27339fef4d0845cea24fcaf86f05fae1",
            "c77bde60915d4f3f85200b4b823da029",
            "a9c01e6dc1e6491db0114d14206df224",
            "6dcefa463e63496182f513a606e4c55d",
            "1cdbe5e3726f4c1d961480d74fdb8095",
            "fbcaa5d3ccdc4b2d9e4a4a422ec579be",
            "14888f9e427e46948f43323e4bb9ec1a",
            "7253ad6f535c43c3845ab81892e78d5f",
            "f487fdbb85a34da7b942c7003a896134",
            "737f7a3fbedb45c795287f372b492670",
            "178920c9db8e400fb97ec46bd1aec132",
            "5e8dfef17ef54c249a8bdafce436c28c",
            "58a5b2dcec414ab7a9330db8a889a3ec",
            "115bc51051954304b35c26635eaf35e0",
            "cb009af40db9489ba783cb78e7a9a9a7",
            "4db40c8a08a1463586bcb6d191202288",
            "2cad6c13e7f94472b40db7360bc4fc0e",
            "6b083ed1c2f041cabd1fca69454c44e2",
            "dbc980218b6f41698638f21854d01c4a",
            "b35b15bbd5754dd7a49f7bbf1df2f0a2",
            "553a5ad2cd5b4eab9f396197d8db2a23",
            "eaf838f54b1d4dc183123417f3e3e550",
            "050ffaf8a6a742cf8bbe776613ba0fda",
            "c6f7fa256a6145b0ab90491f63d078dc",
            "84fddbb2c9784567baaf3f56f50ff125",
            "2885f71727e744aabcf696a22ed90d1d",
            "4e6f60c7bb064c2a82592a330de58416",
            "8665fc39677c40e98d5baf53bad7fd54",
            "ff5583c486ac4a3f99f970727bfde362",
            "01ca07de2ea0408387a28b68224e7c12",
            "849491c813b64691a768b393ec361b0f",
            "ed776d8951a043eb8079bebb469bda6c",
            "9be5a8c9afe5432dbce4c5be0f6ce2ba",
            "730b42c94ef74e06b5388f074021f5c4",
            "aa71136895814198aa6c04c5295c657b",
            "7c0c349299ae4171b2022f6f27baaa98",
            "22f03d65e20844988f2c547bbeb4153f",
            "4f87e61cdb0240cfa8feb72662426e1b",
            "69dec8be32c7478a9b5627d2c2590b56",
            "7406c3fa59834a00ae505e36215cce67",
            "2274ef58ce8644b588df8e7bb6d26897",
            "839735e55d894776b5fde2927005e55d",
            "762d874a42294b90a5e324d31b2501f4",
            "ffabfe8f745d446e9d7c819b8c2493a5",
            "a571a4305fc345efba5f85f12ef14ac9",
            "cb6b95887ed841188448279257555529",
            "7b6c3c73c6d34690ad68069e307b2db8",
            "e2bdc7e4d3454e618fd8dd273fedc6ec",
            "66b9861b9105404391a44eb42490eedf",
            "e16d1dd7982c45b5be2bc5afcca9d7b1",
            "318bb40be7bc4ee1bf74392a7e97dea2",
            "798c1dc2c3624750b23f84583dea9013"
          ]
        },
        "id": "3RJEz5Q4soLN",
        "outputId": "9c925287-66f6-4d96-8aae-ec427f10cf7e"
      },
      "outputs": [
        {
          "output_type": "display_data",
          "data": {
            "text/plain": [
              "Downloading (…)okenizer_config.json:   0%|          | 0.00/39.0 [00:00<?, ?B/s]"
            ],
            "application/vnd.jupyter.widget-view+json": {
              "version_major": 2,
              "version_minor": 0,
              "model_id": "9f38e7e1b2a4431bbc4b8d55a389881b"
            }
          },
          "metadata": {}
        },
        {
          "output_type": "display_data",
          "data": {
            "text/plain": [
              "Downloading (…)lve/main/config.json:   0%|          | 0.00/953 [00:00<?, ?B/s]"
            ],
            "application/vnd.jupyter.widget-view+json": {
              "version_major": 2,
              "version_minor": 0,
              "model_id": "f487fdbb85a34da7b942c7003a896134"
            }
          },
          "metadata": {}
        },
        {
          "output_type": "display_data",
          "data": {
            "text/plain": [
              "Downloading (…)solve/main/vocab.txt:   0%|          | 0.00/872k [00:00<?, ?B/s]"
            ],
            "application/vnd.jupyter.widget-view+json": {
              "version_major": 2,
              "version_minor": 0,
              "model_id": "b35b15bbd5754dd7a49f7bbf1df2f0a2"
            }
          },
          "metadata": {}
        },
        {
          "output_type": "display_data",
          "data": {
            "text/plain": [
              "Downloading (…)cial_tokens_map.json:   0%|          | 0.00/112 [00:00<?, ?B/s]"
            ],
            "application/vnd.jupyter.widget-view+json": {
              "version_major": 2,
              "version_minor": 0,
              "model_id": "849491c813b64691a768b393ec361b0f"
            }
          },
          "metadata": {}
        },
        {
          "output_type": "display_data",
          "data": {
            "text/plain": [
              "Downloading pytorch_model.bin:   0%|          | 0.00/669M [00:00<?, ?B/s]"
            ],
            "application/vnd.jupyter.widget-view+json": {
              "version_major": 2,
              "version_minor": 0,
              "model_id": "839735e55d894776b5fde2927005e55d"
            }
          },
          "metadata": {}
        }
      ],
      "source": [
        "tokenizer = AutoTokenizer.from_pretrained('nlptown/bert-base-multilingual-uncased-sentiment')\n",
        "\n",
        "model = AutoModelForSequenceClassification.from_pretrained('nlptown/bert-base-multilingual-uncased-sentiment')"
      ]
    },
    {
      "cell_type": "markdown",
      "metadata": {
        "id": "UQWmcnD6soLN"
      },
      "source": [
        "# 3. Encode and Calculate Sentiment"
      ]
    },
    {
      "cell_type": "code",
      "source": [
        "comment = \"Here's why I think chatGPT still can't take over your job yet, your company needs to be willing to feed in the entire existing codebase to chatgpt. Otherwise, how can chatgpt make modifications to the existing code?\""
      ],
      "metadata": {
        "id": "CseoCgyYtKCN"
      },
      "execution_count": 13,
      "outputs": []
    },
    {
      "cell_type": "code",
      "execution_count": 14,
      "metadata": {
        "id": "pSsXQAVUsoLO"
      },
      "outputs": [],
      "source": [
        "tokens = tokenizer.encode(comment, return_tensors='pt')"
      ]
    },
    {
      "cell_type": "code",
      "execution_count": 15,
      "metadata": {
        "id": "2s_Q7G7ssoLO"
      },
      "outputs": [],
      "source": [
        "result = model(tokens)"
      ]
    },
    {
      "cell_type": "code",
      "execution_count": 16,
      "metadata": {
        "colab": {
          "base_uri": "https://localhost:8080/"
        },
        "id": "9w0m0Oo1soLO",
        "outputId": "8d46e168-1b42-416a-de65-cd7e0af8c083"
      },
      "outputs": [
        {
          "output_type": "execute_result",
          "data": {
            "text/plain": [
              "tensor([[ 0.1443,  0.3198,  0.4527, -0.0326, -0.8486]],\n",
              "       grad_fn=<AddmmBackward0>)"
            ]
          },
          "metadata": {},
          "execution_count": 16
        }
      ],
      "source": [
        "result.logits"
      ]
    },
    {
      "cell_type": "code",
      "execution_count": 17,
      "metadata": {
        "colab": {
          "base_uri": "https://localhost:8080/"
        },
        "id": "pZAMPZ5OsoLP",
        "outputId": "be2a232b-1cea-4c78-c596-3f6cecb7b905"
      },
      "outputs": [
        {
          "output_type": "execute_result",
          "data": {
            "text/plain": [
              "3"
            ]
          },
          "metadata": {},
          "execution_count": 17
        }
      ],
      "source": [
        "int(torch.argmax(result.logits))+1"
      ]
    },
    {
      "cell_type": "markdown",
      "metadata": {
        "id": "B1dYVj8bsoLQ"
      },
      "source": [
        "# 4. Collect Reviews"
      ]
    },
    {
      "cell_type": "code",
      "source": [
        "soup.findAll('p')"
      ],
      "metadata": {
        "colab": {
          "base_uri": "https://localhost:8080/"
        },
        "id": "FV_2m3pFul4t",
        "outputId": "0da131d7-adb1-4476-b578-a52e1991aa96"
      },
      "execution_count": 27,
      "outputs": [
        {
          "output_type": "execute_result",
          "data": {
            "text/plain": [
              "[<p class=\"header-link-text__09f24__LhRgF css-gutk1c\" data-font-weight=\"semibold\">Write a Review</p>,\n",
              " <p class=\"css-nyjpex\" data-font-weight=\"bold\">Flat White</p>,\n",
              " <p class=\"css-nyjpex\" data-font-weight=\"bold\">Acai Smoothie</p>,\n",
              " <p class=\"css-nyjpex\" data-font-weight=\"bold\">Iced Coffee</p>,\n",
              " <p class=\"css-nyjpex\" data-font-weight=\"bold\">Chocolate Hazelnut Smoothie</p>,\n",
              " <p class=\"css-nyjpex\" data-font-weight=\"bold\">Apple Fresh Juice</p>,\n",
              " <p class=\"css-nyjpex\" data-font-weight=\"bold\">Iced Latte</p>,\n",
              " <p class=\"css-nyjpex\" data-font-weight=\"bold\">Iced Tea</p>,\n",
              " <p class=\"css-war30n\" data-font-weight=\"semibold\"></p>,\n",
              " <p class=\"css-r9996t\" data-font-weight=\"semibold\"><a class=\"css-1idmmu3\" href=\"/map/social-brew-cafe-pyrmont\" role=\"link\"><span class=\"raw__09f24__T4Ezm\">224 Harris St</span></a></p>,\n",
              " <p class=\"css-1sb02f4\" data-font-weight=\"bold\"><span class=\"raw__09f24__T4Ezm\">Pyrmont New South Wales 2009</span></p>,\n",
              " <p class=\"css-1sb02f4\" data-font-weight=\"bold\"><span class=\"raw__09f24__T4Ezm\">Australia</span></p>,\n",
              " <p class=\"css-gutk1c\" data-font-weight=\"semibold\">Pyrmont</p>,\n",
              " <p class=\"day-of-the-week__09f24__JJea_ css-ux5mu6\" data-font-weight=\"bold\">Mon</p>,\n",
              " <p class=\"no-wrap__09f24__c3plq css-1p9ibgf\" data-font-weight=\"semibold\">7:00 AM - 4:30 PM</p>,\n",
              " <p class=\"day-of-the-week__09f24__JJea_ css-1p9ibgf\" data-font-weight=\"semibold\">Tue</p>,\n",
              " <p class=\"no-wrap__09f24__c3plq css-1p9ibgf\" data-font-weight=\"semibold\">7:00 AM - 4:30 PM</p>,\n",
              " <p class=\"day-of-the-week__09f24__JJea_ css-1p9ibgf\" data-font-weight=\"semibold\">Wed</p>,\n",
              " <p class=\"no-wrap__09f24__c3plq css-1p9ibgf\" data-font-weight=\"semibold\">7:00 AM - 4:30 PM</p>,\n",
              " <p class=\"day-of-the-week__09f24__JJea_ css-1p9ibgf\" data-font-weight=\"semibold\">Thu</p>,\n",
              " <p class=\"no-wrap__09f24__c3plq css-1p9ibgf\" data-font-weight=\"semibold\">7:00 AM - 4:30 PM</p>,\n",
              " <p class=\"day-of-the-week__09f24__JJea_ css-1p9ibgf\" data-font-weight=\"semibold\">Fri</p>,\n",
              " <p class=\"no-wrap__09f24__c3plq css-1p9ibgf\" data-font-weight=\"semibold\">7:00 AM - 4:30 PM</p>,\n",
              " <p class=\"day-of-the-week__09f24__JJea_ css-1p9ibgf\" data-font-weight=\"semibold\">Sat</p>,\n",
              " <p class=\"no-wrap__09f24__c3plq css-1p9ibgf\" data-font-weight=\"semibold\">7:00 AM - 4:30 PM</p>,\n",
              " <p class=\"day-of-the-week__09f24__JJea_ css-1p9ibgf\" data-font-weight=\"semibold\">Sun</p>,\n",
              " <p class=\"no-wrap__09f24__c3plq css-1p9ibgf\" data-font-weight=\"semibold\">7:00 AM - 4:30 PM</p>,\n",
              " <p class=\"css-1wayfxy\" data-font-weight=\"semibold\">16 More Attributes</p>,\n",
              " <p class=\"css-1evauet\"><span width=\"0\"><span></span><span>Breakfast, Brunch, Lunch, Snacks, Drinks, Coffee\n",
              " \n",
              " Please note that our kitchen closes at 3pm Monday - Friday &amp; 3:30pm on weekends.</span><span style=\"position:fixed;visibility:hidden;top:0;left:0\">…</span></span></p>,\n",
              " <p class=\"css-1evauet\"><span class=\"raw__09f24__e5GhD raw__09f24__T4Ezm\"><b>Your trust is our top concern,</b> so businesses can't pay to alter or remove their reviews. <a href=\"https://trust.yelp.com\">Learn more.</a></span></p>,\n",
              " <p class=\"css-1sb02f4\" data-font-weight=\"bold\">Overall rating</p>,\n",
              " <p class=\"css-foyide\">135 reviews</p>,\n",
              " <p class=\"css-lziufc\">5 stars</p>,\n",
              " <p class=\"css-lziufc\">4 stars</p>,\n",
              " <p class=\"css-lziufc\">3 stars</p>,\n",
              " <p class=\"css-lziufc\">2 stars</p>,\n",
              " <p class=\"css-lziufc\">1 star</p>,\n",
              " <p class=\"comment__09f24__CR7Ri css-qgunke\"><span class=\"raw__09f24__T4Ezm\" lang=\"en\">Great coffee and vibe. That's all  you need. Crab was outstanding but not good finger food like a taco should be. Really want to try the pork belly sandwich - looked excellent. <br/><br/>This became my go to breakfast place in Darling harbor. Had the avocado salmon salad breakfast and it was excellent. Service has been excellent.</span></p>,\n",
              " <p class=\"css-3u4ty\" data-font-weight=\"bold\">Salmon avocado salad on Syrian bread for breakfast. With a large coffee.</p>,\n",
              " <p class=\"comment__09f24__CR7Ri truncated__09f24__KXFME css-qgunke\"><span class=\"raw__09f24__T4Ezm\" lang=\"en\">Great coffee and vibe. That's all  you need. Crab was outstanding but not good finger food like a taco should be. Really want to try the pork belly sandwich - looked excellent.</span></p>,\n",
              " <p class=\"css-war30n\" data-font-weight=\"semibold\">Read more</p>,\n",
              " <p class=\"comment__09f24__CR7Ri css-qgunke\"><span class=\"raw__09f24__T4Ezm\" lang=\"en\">Great food amazing coffee and tea. Short walk from the harbor. Staff was very friendly</span></p>,\n",
              " <p class=\"css-3u4ty\" data-font-weight=\"bold\">Loaded double double</p>,\n",
              " <p class=\"css-3u4ty\" data-font-weight=\"bold\">Loaded double double</p>,\n",
              " <p class=\"comment__09f24__CR7Ri css-qgunke\"><span class=\"raw__09f24__T4Ezm\" lang=\"en\">Great staff and food.  Must try is the pan fried Gnocchi!  The staff were really friendly and the coffee was good as well</span></p>,\n",
              " <p class=\"css-3u4ty\" data-font-weight=\"bold\">Sorry, took the photo when I was nearly done.  It was amazing!</p>,\n",
              " <p class=\"comment__09f24__CR7Ri css-qgunke\"><span class=\"raw__09f24__T4Ezm\" lang=\"en\">Ricotta hot cakes! These were so yummy. I ate them pretty fast and didn't share with anyone because they were that good ;). <br/><br/>I ordered a green smoothie to balance it all out. Smoothie was a nice way to end my brekkie at this restaurant. <br/><br/>Others with me ordered the salmon Benedict and the smoked salmon flatbread. They were all delicious and all plates were empty. <br/><br/>Cheers!</span></p>,\n",
              " <p class=\"comment__09f24__CR7Ri css-qgunke\"><span class=\"raw__09f24__T4Ezm\" lang=\"en\">I came to Social brew cafe for brunch while exploring the city and on my way to the aquarium. I sat outside. The service was great and the food was good too!<br/><br/>I ordered smoked salmon, truffle fries, black coffee and beer.</span></p>,\n",
              " <p class=\"comment__09f24__CR7Ri css-qgunke\"><span class=\"raw__09f24__T4Ezm\" lang=\"en\">We came for brunch twice in our week-long visit to Sydney. Everything on the menu not only sounds delicious, but is really tasty. It really gave us a sour taste of how bad breaky is in America with what's so readily available in Sydney!  Both days we went were Saturdays and there was a bit of a wait to be seated, the cafe is extremely busy for both dine-in and take-away. Service is fairly quick and servers are all friendly. The location is in Surrey Hills a couple blocks away from the bustling touristy Darling Harbor.<br/>The green smoothie is very tasty and refreshing. We tried the smoked salmon salad, the soft shell crab tacos, ricotta hotcakes, and the breaky sandwich. All were delicious, well seasoned, and a solid amount of food for the price. A definite recommend for anyone's trip into Sydney!</span></p>,\n",
              " <p class=\"comment__09f24__CR7Ri css-qgunke\"><span class=\"raw__09f24__T4Ezm\" lang=\"en\">It was ok. The coffee wasn't the best but it was fine. The relish on the breakfast roll was yum which did make it sing. So perhaps I just got a bad coffee but the food was good on my visit.</span></p>,\n",
              " <p class=\"comment__09f24__CR7Ri css-qgunke\"><span class=\"raw__09f24__T4Ezm\" lang=\"en\">I went here a little while ago- a beautiful morning,<br/>a lovely little brew house on a quaint street corner- perfection.<br/><br/>I went to this cafe with my step-daughter Lucille.<br/>She was always raving about how great it was to her mother, so I thought it would be a nice idea to go here with her for her birthday... boy was I wrong.<br/><br/>She announced her hatred for me while I was waiting for my extra large iced frappé. It felt like hours of awkward silence once she said those four words; \"you're a low-life.\"<br/><br/>Was it in my mind, or was my drink taking ages to arrive? The hands on the clock didn't budge from the last time I glanced at them- 7:43AM, where the fuck is my drink?<br/><br/>\"Why do you always feel you have to be my friend? You're not my dad!\" She fired.<br/><br/>I could only sit there, my head facing down towards the floral tablecloth that lay beneath my quivering arms. The bullet lodged in my heart.<br/>I don't understand why she hates me so much; is it my jokes? The funny way I walk? The fact that I often scream myself awake in the mornings? I guess I'll never know.<br/><br/>The truth is, I don't really care about her that much at all. I'm only part of her family because her mother gives such great head. Other than that, she's essentially bat shit on the pavement; waiting for some other poor soul to step on her once I've divorced her mother. I can't say that to her though... at least not until her mother has let herself go.<br/><br/>Where the fuck is my drink?<br/><br/>The silence continued until the waiter brought over our coffees. <br/>About time!<br/><br/>\"That looks nice\" I said to her as she stirred her sugar into the light brown liquid.<br/><br/>\"Don't talk to me. You always try to talk to me even though you know you'll get nowhere. Why?\"<br/><br/>\"Because I want to get to know you, I'm part of your family now.\" I said in reply.<br/><br/>\"You're fucking gross and you only want to hang around me because you have no mates.\"<br/><br/>\"That isn't true, I have plenty of friends, they just all died in terrible accidents under mildly suspicious circumstances.\" I retorted, happy with my defence.<br/><br/>She sniggered, \"why did your last wife leave you anyways?\"<br/><br/>\"She wasn't happy with the way I used to curl up in the top-load washing machine and wait there until she unknowingly turned it on while I was in there. In my opinion, it saves time and water. Why have a shower and wash your clothes separately when you can do them simultaneously? I think she was angry because I didn't seperate the whites and the blacks\" I stated, as I took my first sip of delicious Iced Frappé. The cream at the top coating my top lip.<br/><br/>She replied, standing up and pushing in her chair, \"You're fucking mental. I'm leaving, if you come back home, I'm literally killing myself.\" She exited the cafe.<br/><br/>With the threat of suicide and the taste of coffee on my tongue, I left... alone.<br/><br/>Overall it's a lovely place, highly recommend it for anyone living in the Pyrmont area. Great atmosphere and wonderful staff.<br/><br/>Definitely coming back.<br/><br/>- 5 stars!!!</span></p>,\n",
              " <p class=\"comment__09f24__CR7Ri css-qgunke\"><span class=\"raw__09f24__T4Ezm\" lang=\"en\">This place is a gem. The ambiance is to die for. The service is really nice. The coffee is a must. Ah I can still remember how that Ice Latte brought me back to life. <br/><br/>I ordered the Mushroom and parmesan bruschetta. It was delish, even though if I ever get it again, I will asked for my eggs over easy. <br/><br/>Bear and I both ordered the spiked Watermelon, passionfruit and pineapple juice. The spiked part was a joke, couldn't feel it or taste it. Whats the point then? If you offer something, really go for it. We sent them back for extra spike and it still came back pretty lame. <br/><br/>But I still recommend the place =)</span></p>,\n",
              " <p class=\"comment__09f24__CR7Ri css-qgunke\"><span class=\"raw__09f24__T4Ezm\" lang=\"en\">Ron &amp; Jo are on the go down under and Wow!  We've found our breakfast place in Sydney and are coming back before we leave!   I yelped you the Social Brew Cafe which was a few blocks from where we are staying so off we went.  They have seating outside and inside and it was a little chilly and they had a table available inside so we grabbed it.  The menu has a lot of tantalizing choices and our very nice waitress made some suggestions that we took.  Jo went with the ricotta pancakes with iced tea and I ordered the smoked salmon with a macchiato.  Our drinks were served quickly and my wife's crimson iced tea had a nice flavor and macchiato was served dark and rich.  Jo's pancakes came with a liberal number of fresh strawberries and the ricotta was spread between the first and second pancake with a pistachio butter (lots of ground pistachios) in between the second and third cake.  These pancakes were well presented and so delicious!  Jo order a side of bacon which was a crispy generous Canadian bacon that was so also tasty and a good accompaniment.  My smoked salmon had a mild smoke taste and the micro mesclun lettuce bed was went well with the flat bread and buttermilk dressing.  Very good!  We had a great meal and expect to come back in our short stay here.  Which says a lot!  I am Bookmarking the Social Brew Cafe! <br/>Food &amp; Beverage 4.75 Great tasting food and cut above most breakfast places in presentation and taste!  I prefer a smokier salmon but I am nitpicking.  <br/>Service 5 Outstanding pleasant waitress was great and responsive.<br/>Atmosphere 4.5 Comfortable and cozy. Outdoor eating area as next to a green space which adds to the experience. <br/>Price 4.5 Great value for what you get for your dollar!<br/>OA 4.75 - I would be a regular here and we plan on coming back for another meal or two while we are here.<br/><br/>Returned for a second time and had another awesome experience ordering the Mushroom Bruschetta. A thick slice of sourdough bread that mushrooms and two poached eggs with cream fresh and grated cheese flavored with truffles and pink of beef sausage.  I had the loaded double, a stack of two slices of bread that sandwich ham and melted cheese between and topped with a free range sunny side up egg.  They simply have some excellent food that is well prepared and presented.  Absolutely love going here!</span></p>,\n",
              " <p class=\"css-gutk1c\" data-font-weight=\"semibold\"><a class=\"css-f4x8dl\" href=\"/biz_photos/social-brew-cafe-pyrmont?userid=u7tbCCWV8g9IaOG3uORnyA\">See all photos from Ron P. for Social Brew Cafe</a></p>,\n",
              " <p class=\"css-chan6m\"><a class=\"css-182o411\" href=\"/not_recommended_reviews/wEnq0jZ0YgBxSj7rx0H-Cw\" role=\"link\">47 other reviews that are not currently recommended<span class=\"display--inline__09f24__c6N_k margin-l0-5__09f24__sV2gd border-color--default__09f24__NPAKY\"><span alt=\"\" aria-hidden=\"true\" class=\"icon--16-chevron-down-v2 css-1p80smk\" role=\"img\"><svg class=\"icon_svg\" height=\"16\" width=\"16\"><path d=\"M8 10.25a.746.746 0 01-.525-.215l-3.055-3a.75.75 0 011.05-1.07L8 8.449l2.53-2.484a.75.75 0 011.05 1.07l-3.055 3A.746.746 0 018 10.25z\"></path></svg></span></span></a></p>,\n",
              " <p class=\"css-na3oda\">Business website</p>,\n",
              " <p class=\"css-1p9ibgf\" data-font-weight=\"semibold\"><a class=\"css-1idmmu3\" href=\"/biz_redir?url=http%3A%2F%2Fwww.socialbrewcafe.com.au&amp;cachebuster=1683488305&amp;website_link_type=website&amp;src_bizid=wEnq0jZ0YgBxSj7rx0H-Cw&amp;s=1c77a39a1814f29fccb55b69a663e939f56f62f002d744a5caed03adf50854f5\" rel=\"noopener\" role=\"link\" target=\"_blank\">http://www.socialbrewcafe.com.…</a></p>,\n",
              " <p class=\"css-na3oda\">Phone number</p>,\n",
              " <p class=\"css-1p9ibgf\" data-font-weight=\"semibold\">(02) 9571 8792</p>,\n",
              " <p class=\"css-1p9ibgf\" data-font-weight=\"semibold\"><a class=\"css-1idmmu3\" href=\"/map/social-brew-cafe-pyrmont\" role=\"link\">Get Directions</a></p>,\n",
              " <p class=\"css-qyp8bo\" data-font-weight=\"semibold\">224 Harris St Pyrmont New South Wales 2009 Australia</p>,\n",
              " <p class=\"overlay-text__09f24__Gckb7 css-1gquror\"><span alt=\"\" aria-hidden=\"true\" class=\"icon--24-save-v2 css-12anxc3\" role=\"img\"><svg class=\"icon_svg\" height=\"24\" width=\"24\"><path d=\"M17 2H7a3.003 3.003 0 00-3 3v16a1 1 0 001.581.814L12 17.229l6.419 4.585a.994.994 0 001.039.076A1 1 0 0020 21V5a3.003 3.003 0 00-3-3z\"></path></svg></span>41</p>,\n",
              " <p class=\"css-ux5mu6\" data-font-weight=\"bold\">My favourite Burgers in Sydney</p>,\n",
              " <p class=\"css-chan6m\">By Howard C.</p>,\n",
              " <p class=\"overlay-text__09f24__Gckb7 css-1gquror\"><span alt=\"\" aria-hidden=\"true\" class=\"icon--24-save-v2 css-12anxc3\" role=\"img\"><svg class=\"icon_svg\" height=\"24\" width=\"24\"><path d=\"M17 2H7a3.003 3.003 0 00-3 3v16a1 1 0 001.581.814L12 17.229l6.419 4.585a.994.994 0 001.039.076A1 1 0 0020 21V5a3.003 3.003 0 00-3-3z\"></path></svg></span>7</p>,\n",
              " <p class=\"css-ux5mu6\" data-font-weight=\"bold\">Cafes - cool, new, trendy, delicious Sydney cafes.</p>,\n",
              " <p class=\"css-chan6m\">By Benjamin B.</p>,\n",
              " <p class=\"overlay-text__09f24__Gckb7 css-1gquror\"><span alt=\"\" aria-hidden=\"true\" class=\"icon--24-save-v2 css-12anxc3\" role=\"img\"><svg class=\"icon_svg\" height=\"24\" width=\"24\"><path d=\"M17 2H7a3.003 3.003 0 00-3 3v16a1 1 0 001.581.814L12 17.229l6.419 4.585a.994.994 0 001.039.076A1 1 0 0020 21V5a3.003 3.003 0 00-3-3z\"></path></svg></span>13</p>,\n",
              " <p class=\"css-ux5mu6\" data-font-weight=\"bold\">Breakfast in Sydney</p>,\n",
              " <p class=\"css-chan6m\">By Benjamin B.</p>,\n",
              " <p class=\"overlay-text__09f24__Gckb7 css-1gquror\"><span alt=\"\" aria-hidden=\"true\" class=\"icon--24-save-v2 css-12anxc3\" role=\"img\"><svg class=\"icon_svg\" height=\"24\" width=\"24\"><path d=\"M17 2H7a3.003 3.003 0 00-3 3v16a1 1 0 001.581.814L12 17.229l6.419 4.585a.994.994 0 001.039.076A1 1 0 0020 21V5a3.003 3.003 0 00-3-3z\"></path></svg></span>44</p>,\n",
              " <p class=\"css-ux5mu6\" data-font-weight=\"bold\">Brunch in Sydney</p>,\n",
              " <p class=\"css-chan6m\">By Benjamin B.</p>,\n",
              " <p class=\"overlay-text__09f24__Gckb7 css-1gquror\"><span alt=\"\" aria-hidden=\"true\" class=\"icon--24-save-v2 css-12anxc3\" role=\"img\"><svg class=\"icon_svg\" height=\"24\" width=\"24\"><path d=\"M17 2H7a3.003 3.003 0 00-3 3v16a1 1 0 001.581.814L12 17.229l6.419 4.585a.994.994 0 001.039.076A1 1 0 0020 21V5a3.003 3.003 0 00-3-3z\"></path></svg></span>21</p>,\n",
              " <p class=\"css-ux5mu6\" data-font-weight=\"bold\">Lunch in Sydney</p>,\n",
              " <p class=\"css-chan6m\">By Benjamin B.</p>,\n",
              " <p class=\"overlay-text__09f24__Gckb7 css-1gquror\"><span alt=\"\" aria-hidden=\"true\" class=\"icon--24-save-v2 css-12anxc3\" role=\"img\"><svg class=\"icon_svg\" height=\"24\" width=\"24\"><path d=\"M17 2H7a3.003 3.003 0 00-3 3v16a1 1 0 001.581.814L12 17.229l6.419 4.585a.994.994 0 001.039.076A1 1 0 0020 21V5a3.003 3.003 0 00-3-3z\"></path></svg></span>13</p>,\n",
              " <p class=\"css-ux5mu6\" data-font-weight=\"bold\">Sunniest Cafes</p>,\n",
              " <p class=\"css-chan6m\">By Benjamin B.</p>,\n",
              " <p class=\"overlay-text__09f24__Gckb7 css-1gquror\"><span alt=\"\" aria-hidden=\"true\" class=\"icon--24-save-v2 css-12anxc3\" role=\"img\"><svg class=\"icon_svg\" height=\"24\" width=\"24\"><path d=\"M17 2H7a3.003 3.003 0 00-3 3v16a1 1 0 001.581.814L12 17.229l6.419 4.585a.994.994 0 001.039.076A1 1 0 0020 21V5a3.003 3.003 0 00-3-3z\"></path></svg></span>183</p>,\n",
              " <p class=\"css-ux5mu6\" data-font-weight=\"bold\">Sydney Australia</p>,\n",
              " <p class=\"css-chan6m\">By May J.</p>,\n",
              " <p class=\"overlay-text__09f24__Gckb7 css-1gquror\"><span alt=\"\" aria-hidden=\"true\" class=\"icon--24-save-v2 css-12anxc3\" role=\"img\"><svg class=\"icon_svg\" height=\"24\" width=\"24\"><path d=\"M17 2H7a3.003 3.003 0 00-3 3v16a1 1 0 001.581.814L12 17.229l6.419 4.585a.994.994 0 001.039.076A1 1 0 0020 21V5a3.003 3.003 0 00-3-3z\"></path></svg></span>13</p>,\n",
              " <p class=\"css-ux5mu6\" data-font-weight=\"bold\">Sydney Spots</p>,\n",
              " <p class=\"css-chan6m\">By Marisol R.</p>,\n",
              " <p class=\"overlay-text__09f24__Gckb7 css-1gquror\"><span alt=\"\" aria-hidden=\"true\" class=\"icon--24-save-v2 css-12anxc3\" role=\"img\"><svg class=\"icon_svg\" height=\"24\" width=\"24\"><path d=\"M17 2H7a3.003 3.003 0 00-3 3v16a1 1 0 001.581.814L12 17.229l6.419 4.585a.994.994 0 001.039.076A1 1 0 0020 21V5a3.003 3.003 0 00-3-3z\"></path></svg></span>9</p>,\n",
              " <p class=\"css-ux5mu6\" data-font-weight=\"bold\">Sydney, Australia (Food)</p>,\n",
              " <p class=\"css-chan6m\">By Louis R.</p>,\n",
              " <p class=\"overlay-text__09f24__Gckb7 css-1gquror\"><span alt=\"\" aria-hidden=\"true\" class=\"icon--24-save-v2 css-12anxc3\" role=\"img\"><svg class=\"icon_svg\" height=\"24\" width=\"24\"><path d=\"M17 2H7a3.003 3.003 0 00-3 3v16a1 1 0 001.581.814L12 17.229l6.419 4.585a.994.994 0 001.039.076A1 1 0 0020 21V5a3.003 3.003 0 00-3-3z\"></path></svg></span>25</p>,\n",
              " <p class=\"css-ux5mu6\" data-font-weight=\"bold\">syd,aus</p>,\n",
              " <p class=\"css-chan6m\">By StaciLei T.</p>,\n",
              " <p class=\"css-1c994ch\"><a class=\"businessTitleLink__09f24__yn6_N css-1dvzjst\" href=\"/biz/the-fine-food-store-the-rocks-2?page_src=related_bizes\" id=\"businessPassport-:R11l9sr:\" role=\"link\" target=\"_self\">The Fine Food Store</a></p>,\n",
              " <p class=\"css-1c994ch\"><a class=\"businessTitleLink__09f24__yn6_N css-1dvzjst\" href=\"/biz/trio-bondi-beach?page_src=related_bizes\" id=\"businessPassport-:R12l9sr:\" role=\"link\" target=\"_self\">Trio</a></p>,\n",
              " <p class=\"css-1c994ch\"><a class=\"businessTitleLink__09f24__yn6_N css-1dvzjst\" href=\"/biz/barista-sisters-coffee-sydney?page_src=related_bizes\" id=\"businessPassport-:R13l9sr:\" role=\"link\" target=\"_self\">Barista Sisters Coffee</a></p>,\n",
              " <p class=\"css-1c994ch\"><a class=\"businessTitleLink__09f24__yn6_N css-1dvzjst\" href=\"/biz/kansas-city-shuffle-the-rocks?page_src=related_bizes\" id=\"businessPassport-:R14l9sr:\" role=\"link\" target=\"_self\">Kansas City Shuffle</a></p>,\n",
              " <p class=\"css-1c994ch\"><a class=\"businessTitleLink__09f24__yn6_N css-1dvzjst\" href=\"/biz/marlowes-way-sydney?page_src=related_bizes\" id=\"businessPassport-:R15l9sr:\" role=\"link\" target=\"_self\">Marlowe’s Way</a></p>,\n",
              " <p class=\"css-1c994ch\"><a class=\"businessTitleLink__09f24__yn6_N css-1dvzjst\" href=\"/biz/cafe-sydney-circular-quay-2?page_src=related_bizes\" id=\"businessPassport-:R16l9sr:\" role=\"link\" target=\"_self\">Cafe Sydney</a></p>,\n",
              " <p class=\"css-1c994ch\"><a class=\"businessTitleLink__09f24__yn6_N css-1dvzjst\" href=\"/biz/two-good-eggs-cafe-surry-hills-2?page_src=related_bizes\" id=\"businessPassport-:R17l9sr:\" role=\"link\" target=\"_self\">Two Good Eggs Cafe</a></p>,\n",
              " <p class=\"css-1c994ch\"><a class=\"businessTitleLink__09f24__yn6_N css-1dvzjst\" href=\"/biz/pancakes-on-the-rocks-the-rocks-the-rocks?page_src=related_bizes\" id=\"businessPassport-:R18l9sr:\" role=\"link\" target=\"_self\">Pancakes On The Rocks - The Rocks</a></p>,\n",
              " <p class=\"css-1c994ch\"><a class=\"businessTitleLink__09f24__yn6_N css-1dvzjst\" href=\"/biz/the-pantry-manly-manly?page_src=related_bizes\" id=\"businessPassport-:R19l9sr:\" role=\"link\" target=\"_self\">The Pantry Manly</a></p>,\n",
              " <p class=\"css-1c994ch\"><a class=\"businessTitleLink__09f24__yn6_N css-1dvzjst\" href=\"/biz/the-grounds-of-the-city-sydney-2?page_src=related_bizes\" id=\"businessPassport-:R1al9sr:\" role=\"link\" target=\"_self\">The Grounds of The City</a></p>,\n",
              " <p class=\"css-chan6m\">Restaurants</p>,\n",
              " <p class=\"css-chan6m\">Nightlife</p>,\n",
              " <p class=\"css-chan6m\">Shopping</p>,\n",
              " <p class=\"css-chan6m\">Show all</p>,\n",
              " <p class=\"css-chan6m\">Search for Reservations</p>,\n",
              " <p class=\"css-chan6m\">Book a Table in Pyrmont</p>,\n",
              " <p class=\"css-chan6m\">Find more Breakfast Brunch Spots near Social Brew Cafe</p>,\n",
              " <p class=\"css-chan6m\">Find more Cafes near Social Brew Cafe</p>,\n",
              " <p class=\"css-chan6m\">Find more Coffee &amp; Tea Shops near Social Brew Cafe</p>,\n",
              " <p class=\"css-chan6m\">Breakfast Near Me</p>,\n",
              " <p class=\"css-chan6m\">Coffee &amp; Tea Shops Near Me</p>,\n",
              " <p class=\"css-chan6m\">First Watch Near Me</p>,\n",
              " <p class=\"css-chan6m\">Good Breakfast Near Me</p>,\n",
              " <p class=\"css-1lnf5f9\" data-font-weight=\"bold\">Does Social Brew Cafe take reservations?</p>,\n",
              " <p class=\"css-2sacua\">Yes, you can make a reservation by picking a date, time, and party size.</p>,\n",
              " <p class=\"css-1lnf5f9\" data-font-weight=\"bold\">Does Social Brew Cafe have outdoor seating?</p>,\n",
              " <p class=\"css-2sacua\">Yes, Social Brew Cafe has outdoor seating.</p>,\n",
              " <p class=\"css-1lnf5f9\" data-font-weight=\"bold\">Is Social Brew Cafe currently offering delivery or takeout?</p>,\n",
              " <p class=\"css-2sacua\">Yes, Social Brew Cafe offers takeout.</p>,\n",
              " <p class=\"css-1lnf5f9\" data-font-weight=\"bold\">How is Social Brew Cafe rated?</p>,\n",
              " <p class=\"css-2sacua\">Social Brew Cafe has 4.5 stars.</p>,\n",
              " <p class=\"css-12i50in\">Copyright © 2004–2023 Yelp Inc. Yelp,<!-- --> <img alt=\"Yelp logo\" class=\"align-bottom__09f24__Arqzc\" height=\"19\" src=\"https://s3-media0.fl.yelpcdn.com/assets/srv0/yelp_design_cdn/7ef71bf77a33/assets/img/brand/logo_desktop.svg\" width=\"38\"/>, <!-- --> <img alt=\"Yelp burst\" class=\"burst__09f24__HfvYL\" height=\"16\" src=\"https://s3-media0.fl.yelpcdn.com/assets/srv0/yelp_design_cdn/cabcef1daea2/assets/img/brand/burst_red.svg\" width=\"14\"/> and related marks are registered trademarks of Yelp.</p>]"
            ]
          },
          "metadata": {},
          "execution_count": 27
        }
      ]
    },
    {
      "cell_type": "code",
      "execution_count": 18,
      "metadata": {
        "id": "N6klyAmjsoLR"
      },
      "outputs": [],
      "source": [
        "r = requests.get('https://www.yelp.com/biz/social-brew-cafe-pyrmont')\n",
        "soup = BeautifulSoup(r.text, 'html.parser')\n",
        "regex = re.compile('.*comment.*')\n",
        "results = soup.find_all('p', {'class':regex})\n",
        "reviews = [result.text for result in results]"
      ]
    },
    {
      "cell_type": "code",
      "execution_count": 19,
      "metadata": {
        "colab": {
          "base_uri": "https://localhost:8080/"
        },
        "id": "Km0R8cILsoLR",
        "outputId": "3e16e30b-5311-49f5-ddec-e7b38c68fbd0"
      },
      "outputs": [
        {
          "output_type": "execute_result",
          "data": {
            "text/plain": [
              "[\"Great coffee and vibe. That's all \\xa0you need. Crab was outstanding but not good finger food like a taco should be. Really want to try the pork belly sandwich - looked excellent. This became my go to breakfast place in Darling harbor. Had the avocado salmon salad breakfast and it was excellent. Service has been excellent.\",\n",
              " \"Great coffee and vibe. That's all \\xa0you need. Crab was outstanding but not good finger food like a taco should be. Really want to try the pork belly sandwich - looked excellent.\",\n",
              " 'Great food amazing coffee and tea. Short walk from the harbor. Staff was very friendly',\n",
              " 'Great staff and food. \\xa0Must try is the pan fried Gnocchi! \\xa0The staff were really friendly and the coffee was good as well',\n",
              " \"Ricotta hot cakes! These were so yummy. I ate them pretty fast and didn't share with anyone because they were that good ;). I ordered a green smoothie to balance it all out. Smoothie was a nice way to end my brekkie at this restaurant. Others with me ordered the salmon Benedict and the smoked salmon flatbread. They were all delicious and all plates were empty. Cheers!\",\n",
              " 'I came to Social brew cafe for brunch while exploring the city and on my way to the aquarium. I sat outside. The service was great and the food was good too!I ordered smoked salmon, truffle fries, black coffee and beer.',\n",
              " \"We came for brunch twice in our week-long visit to Sydney. Everything on the menu not only sounds delicious, but is really tasty. It really gave us a sour taste of how bad breaky is in America with what's so readily available in Sydney! \\xa0Both days we went were Saturdays and there was a bit of a wait to be seated, the cafe is extremely busy for both dine-in and take-away. Service is fairly quick and servers are all friendly. The location is in Surrey Hills a couple blocks away from the bustling touristy Darling Harbor.The green smoothie is very tasty and refreshing. We tried the smoked salmon salad, the soft shell crab tacos, ricotta hotcakes, and the breaky sandwich. All were delicious, well seasoned, and a solid amount of food for the price. A definite recommend for anyone's trip into Sydney!\",\n",
              " \"It was ok. The coffee wasn't the best but it was fine. The relish on the breakfast roll was yum which did make it sing. So perhaps I just got a bad coffee but the food was good on my visit.\",\n",
              " 'I went here a little while ago- a beautiful morning,a lovely little brew house on a quaint street corner- perfection.I went to this cafe with my step-daughter Lucille.She was always raving about how great it was to her mother, so I thought it would be a nice idea to go here with her for her birthday... boy was I wrong.She announced her hatred for me while I was waiting for my extra large iced frappé. It felt like hours of awkward silence once she said those four words; \"you\\'re a low-life.\"Was it in my mind, or was my drink taking ages to arrive? The hands on the clock didn\\'t budge from the last time I glanced at them- 7:43AM, where the fuck is my drink?\"Why do you always feel you have to be my friend? You\\'re not my dad!\" She fired.I could only sit there, my head facing down towards the floral tablecloth that lay beneath my quivering arms. The bullet lodged in my heart.I don\\'t understand why she hates me so much; is it my jokes? The funny way I walk? The fact that I often scream myself awake in the mornings? I guess I\\'ll never know.The truth is, I don\\'t really care about her that much at all. I\\'m only part of her family because her mother gives such great head. Other than that, she\\'s essentially bat shit on the pavement; waiting for some other poor soul to step on her once I\\'ve divorced her mother. I can\\'t say that to her though... at least not until her mother has let herself go.Where the fuck is my drink?The silence continued until the waiter brought over our coffees. About time!\"That looks nice\" I said to her as she stirred her sugar into the light brown liquid.\"Don\\'t talk to me. You always try to talk to me even though you know you\\'ll get nowhere. Why?\"\"Because I want to get to know you, I\\'m part of your family now.\" I said in reply.\"You\\'re fucking gross and you only want to hang around me because you have no mates.\"\"That isn\\'t true, I have plenty of friends, they just all died in terrible accidents under mildly suspicious circumstances.\" I retorted, happy with my defence.She sniggered, \"why did your last wife leave you anyways?\"\"She wasn\\'t happy with the way I used to curl up in the top-load washing machine and wait there until she unknowingly turned it on while I was in there. In my opinion, it saves time and water. Why have a shower and wash your clothes separately when you can do them simultaneously? I think she was angry because I didn\\'t seperate the whites and the blacks\" I stated, as I took my first sip of delicious Iced Frappé. The cream at the top coating my top lip.She replied, standing up and pushing in her chair, \"You\\'re fucking mental. I\\'m leaving, if you come back home, I\\'m literally killing myself.\" She exited the cafe.With the threat of suicide and the taste of coffee on my tongue, I left... alone.Overall it\\'s a lovely place, highly recommend it for anyone living in the Pyrmont area. Great atmosphere and wonderful staff.Definitely coming back.- 5 stars!!!',\n",
              " \"This place is a gem. The ambiance is to die for. The service is really nice. The coffee is a must. Ah I can still remember how that Ice Latte brought me back to life. I ordered the Mushroom and parmesan bruschetta. It was delish, even though if I ever get it again, I will asked for my eggs over easy. Bear and I both ordered the spiked Watermelon, passionfruit and pineapple juice. The spiked part was a joke, couldn't feel it or taste it. Whats the point then? If you offer something, really go for it. We sent them back for extra spike and it still came back pretty lame. But I still recommend the place =)\",\n",
              " \"Ron & Jo are on the go down under and Wow! \\xa0We've found our breakfast place in Sydney and are coming back before we leave! \\xa0 I yelped you the Social Brew Cafe which was a few blocks from where we are staying so off we went. \\xa0They have seating outside and inside and it was a little chilly and they had a table available inside so we grabbed it. \\xa0The menu has a lot of tantalizing choices and our very nice waitress made some suggestions that we took. \\xa0Jo went with the ricotta pancakes with iced tea and I ordered the smoked salmon with a macchiato. \\xa0Our drinks were served quickly and my wife's crimson iced tea had a nice flavor and macchiato was served dark and rich. \\xa0Jo's pancakes came with a liberal number of fresh strawberries and the ricotta was spread between the first and second pancake with a pistachio butter (lots of ground pistachios) in between the second and third cake. \\xa0These pancakes were well presented and so delicious! \\xa0Jo order a side of bacon which was a crispy generous Canadian bacon that was so also tasty and a good accompaniment. \\xa0My smoked salmon had a mild smoke taste and the micro mesclun lettuce bed was went well with the flat bread and buttermilk dressing. \\xa0Very good! \\xa0We had a great meal and expect to come back in our short stay here. \\xa0Which says a lot! \\xa0I am Bookmarking the Social Brew Cafe! Food & Beverage 4.75 Great tasting food and cut above most breakfast places in presentation and taste! \\xa0I prefer a smokier salmon but I am nitpicking. \\xa0Service 5 Outstanding pleasant waitress was great and responsive.Atmosphere 4.5 Comfortable and cozy. Outdoor eating area as next to a green space which adds to the experience. Price 4.5 Great value for what you get for your dollar!OA 4.75 - I would be a regular here and we plan on coming back for another meal or two while we are here.Returned for a second time and had another awesome experience ordering the Mushroom Bruschetta. A thick slice of sourdough bread that mushrooms and two poached eggs with cream fresh and grated cheese flavored with truffles and pink of beef sausage. \\xa0I had the loaded double, a stack of two slices of bread that sandwich ham and melted cheese between and topped with a free range sunny side up egg. \\xa0They simply have some excellent food that is well prepared and presented. \\xa0Absolutely love going here!\"]"
            ]
          },
          "metadata": {},
          "execution_count": 19
        }
      ],
      "source": [
        "reviews"
      ]
    },
    {
      "cell_type": "markdown",
      "metadata": {
        "id": "lHmNEHE7soLR"
      },
      "source": [
        "# 5. Load Reviews into DataFrame and Score"
      ]
    },
    {
      "cell_type": "code",
      "execution_count": 28,
      "metadata": {
        "id": "Ia99bSqdsoLS"
      },
      "outputs": [],
      "source": [
        "import numpy as np\n",
        "import pandas as pd"
      ]
    },
    {
      "cell_type": "code",
      "execution_count": 29,
      "metadata": {
        "id": "L69BWdyPsoLS"
      },
      "outputs": [],
      "source": [
        "df = pd.DataFrame(np.array(reviews), columns=['review'])"
      ]
    },
    {
      "cell_type": "code",
      "execution_count": 35,
      "metadata": {
        "colab": {
          "base_uri": "https://localhost:8080/",
          "height": 53
        },
        "id": "K0EkRHuqsoLT",
        "outputId": "396b35f9-84aa-4927-a16b-ca7d757a8afa"
      },
      "outputs": [
        {
          "output_type": "execute_result",
          "data": {
            "text/plain": [
              "\"Great coffee and vibe. That's all \\xa0you need. Crab was outstanding but not good finger food like a taco should be. Really want to try the pork belly sandwich - looked excellent.\""
            ],
            "application/vnd.google.colaboratory.intrinsic+json": {
              "type": "string"
            }
          },
          "metadata": {},
          "execution_count": 35
        }
      ],
      "source": [
        "df['review'].iloc[1]"
      ]
    },
    {
      "cell_type": "code",
      "execution_count": 36,
      "metadata": {
        "id": "4PuTVttQsoLT"
      },
      "outputs": [],
      "source": [
        "def sentiment_score(review):\n",
        "    tokens = tokenizer.encode(review, return_tensors='pt')\n",
        "    result = model(tokens)\n",
        "    return int(torch.argmax(result.logits))+1"
      ]
    },
    {
      "cell_type": "code",
      "execution_count": 37,
      "metadata": {
        "colab": {
          "base_uri": "https://localhost:8080/"
        },
        "id": "Glj2saQUsoLU",
        "outputId": "252ada68-20f1-4406-b2fc-bfc0124537a1"
      },
      "outputs": [
        {
          "output_type": "execute_result",
          "data": {
            "text/plain": [
              "4"
            ]
          },
          "metadata": {},
          "execution_count": 37
        }
      ],
      "source": [
        "sentiment_score(df['review'].iloc[1])"
      ]
    },
    {
      "cell_type": "code",
      "execution_count": 41,
      "metadata": {
        "id": "-hFxI-I3soLU"
      },
      "outputs": [],
      "source": [
        "df['sentiment'] = df['review'].apply(lambda x: sentiment_score(x[:512]))"
      ]
    },
    {
      "cell_type": "code",
      "execution_count": 39,
      "metadata": {
        "colab": {
          "base_uri": "https://localhost:8080/",
          "height": 394
        },
        "id": "CQBzG0NmsoLV",
        "outputId": "c8707129-0ad2-4a76-b7e5-82a62a085dad"
      },
      "outputs": [
        {
          "output_type": "execute_result",
          "data": {
            "text/plain": [
              "                                               review  sentiment\n",
              "0   Great coffee and vibe. That's all  you need. C...          5\n",
              "1   Great coffee and vibe. That's all  you need. C...          4\n",
              "2   Great food amazing coffee and tea. Short walk ...          5\n",
              "3   Great staff and food.  Must try is the pan fri...          5\n",
              "4   Ricotta hot cakes! These were so yummy. I ate ...          5\n",
              "5   I came to Social brew cafe for brunch while ex...          5\n",
              "6   We came for brunch twice in our week-long visi...          4\n",
              "7   It was ok. The coffee wasn't the best but it w...          3\n",
              "8   I went here a little while ago- a beautiful mo...          2\n",
              "9   This place is a gem. The ambiance is to die fo...          3\n",
              "10  Ron & Jo are on the go down under and Wow!  We...          5"
            ],
            "text/html": [
              "\n",
              "  <div id=\"df-7bf3dcda-c69b-47bc-93f4-127a8cabae08\">\n",
              "    <div class=\"colab-df-container\">\n",
              "      <div>\n",
              "<style scoped>\n",
              "    .dataframe tbody tr th:only-of-type {\n",
              "        vertical-align: middle;\n",
              "    }\n",
              "\n",
              "    .dataframe tbody tr th {\n",
              "        vertical-align: top;\n",
              "    }\n",
              "\n",
              "    .dataframe thead th {\n",
              "        text-align: right;\n",
              "    }\n",
              "</style>\n",
              "<table border=\"1\" class=\"dataframe\">\n",
              "  <thead>\n",
              "    <tr style=\"text-align: right;\">\n",
              "      <th></th>\n",
              "      <th>review</th>\n",
              "      <th>sentiment</th>\n",
              "    </tr>\n",
              "  </thead>\n",
              "  <tbody>\n",
              "    <tr>\n",
              "      <th>0</th>\n",
              "      <td>Great coffee and vibe. That's all  you need. C...</td>\n",
              "      <td>5</td>\n",
              "    </tr>\n",
              "    <tr>\n",
              "      <th>1</th>\n",
              "      <td>Great coffee and vibe. That's all  you need. C...</td>\n",
              "      <td>4</td>\n",
              "    </tr>\n",
              "    <tr>\n",
              "      <th>2</th>\n",
              "      <td>Great food amazing coffee and tea. Short walk ...</td>\n",
              "      <td>5</td>\n",
              "    </tr>\n",
              "    <tr>\n",
              "      <th>3</th>\n",
              "      <td>Great staff and food.  Must try is the pan fri...</td>\n",
              "      <td>5</td>\n",
              "    </tr>\n",
              "    <tr>\n",
              "      <th>4</th>\n",
              "      <td>Ricotta hot cakes! These were so yummy. I ate ...</td>\n",
              "      <td>5</td>\n",
              "    </tr>\n",
              "    <tr>\n",
              "      <th>5</th>\n",
              "      <td>I came to Social brew cafe for brunch while ex...</td>\n",
              "      <td>5</td>\n",
              "    </tr>\n",
              "    <tr>\n",
              "      <th>6</th>\n",
              "      <td>We came for brunch twice in our week-long visi...</td>\n",
              "      <td>4</td>\n",
              "    </tr>\n",
              "    <tr>\n",
              "      <th>7</th>\n",
              "      <td>It was ok. The coffee wasn't the best but it w...</td>\n",
              "      <td>3</td>\n",
              "    </tr>\n",
              "    <tr>\n",
              "      <th>8</th>\n",
              "      <td>I went here a little while ago- a beautiful mo...</td>\n",
              "      <td>2</td>\n",
              "    </tr>\n",
              "    <tr>\n",
              "      <th>9</th>\n",
              "      <td>This place is a gem. The ambiance is to die fo...</td>\n",
              "      <td>3</td>\n",
              "    </tr>\n",
              "    <tr>\n",
              "      <th>10</th>\n",
              "      <td>Ron &amp; Jo are on the go down under and Wow!  We...</td>\n",
              "      <td>5</td>\n",
              "    </tr>\n",
              "  </tbody>\n",
              "</table>\n",
              "</div>\n",
              "      <button class=\"colab-df-convert\" onclick=\"convertToInteractive('df-7bf3dcda-c69b-47bc-93f4-127a8cabae08')\"\n",
              "              title=\"Convert this dataframe to an interactive table.\"\n",
              "              style=\"display:none;\">\n",
              "        \n",
              "  <svg xmlns=\"http://www.w3.org/2000/svg\" height=\"24px\"viewBox=\"0 0 24 24\"\n",
              "       width=\"24px\">\n",
              "    <path d=\"M0 0h24v24H0V0z\" fill=\"none\"/>\n",
              "    <path d=\"M18.56 5.44l.94 2.06.94-2.06 2.06-.94-2.06-.94-.94-2.06-.94 2.06-2.06.94zm-11 1L8.5 8.5l.94-2.06 2.06-.94-2.06-.94L8.5 2.5l-.94 2.06-2.06.94zm10 10l.94 2.06.94-2.06 2.06-.94-2.06-.94-.94-2.06-.94 2.06-2.06.94z\"/><path d=\"M17.41 7.96l-1.37-1.37c-.4-.4-.92-.59-1.43-.59-.52 0-1.04.2-1.43.59L10.3 9.45l-7.72 7.72c-.78.78-.78 2.05 0 2.83L4 21.41c.39.39.9.59 1.41.59.51 0 1.02-.2 1.41-.59l7.78-7.78 2.81-2.81c.8-.78.8-2.07 0-2.86zM5.41 20L4 18.59l7.72-7.72 1.47 1.35L5.41 20z\"/>\n",
              "  </svg>\n",
              "      </button>\n",
              "      \n",
              "  <style>\n",
              "    .colab-df-container {\n",
              "      display:flex;\n",
              "      flex-wrap:wrap;\n",
              "      gap: 12px;\n",
              "    }\n",
              "\n",
              "    .colab-df-convert {\n",
              "      background-color: #E8F0FE;\n",
              "      border: none;\n",
              "      border-radius: 50%;\n",
              "      cursor: pointer;\n",
              "      display: none;\n",
              "      fill: #1967D2;\n",
              "      height: 32px;\n",
              "      padding: 0 0 0 0;\n",
              "      width: 32px;\n",
              "    }\n",
              "\n",
              "    .colab-df-convert:hover {\n",
              "      background-color: #E2EBFA;\n",
              "      box-shadow: 0px 1px 2px rgba(60, 64, 67, 0.3), 0px 1px 3px 1px rgba(60, 64, 67, 0.15);\n",
              "      fill: #174EA6;\n",
              "    }\n",
              "\n",
              "    [theme=dark] .colab-df-convert {\n",
              "      background-color: #3B4455;\n",
              "      fill: #D2E3FC;\n",
              "    }\n",
              "\n",
              "    [theme=dark] .colab-df-convert:hover {\n",
              "      background-color: #434B5C;\n",
              "      box-shadow: 0px 1px 3px 1px rgba(0, 0, 0, 0.15);\n",
              "      filter: drop-shadow(0px 1px 2px rgba(0, 0, 0, 0.3));\n",
              "      fill: #FFFFFF;\n",
              "    }\n",
              "  </style>\n",
              "\n",
              "      <script>\n",
              "        const buttonEl =\n",
              "          document.querySelector('#df-7bf3dcda-c69b-47bc-93f4-127a8cabae08 button.colab-df-convert');\n",
              "        buttonEl.style.display =\n",
              "          google.colab.kernel.accessAllowed ? 'block' : 'none';\n",
              "\n",
              "        async function convertToInteractive(key) {\n",
              "          const element = document.querySelector('#df-7bf3dcda-c69b-47bc-93f4-127a8cabae08');\n",
              "          const dataTable =\n",
              "            await google.colab.kernel.invokeFunction('convertToInteractive',\n",
              "                                                     [key], {});\n",
              "          if (!dataTable) return;\n",
              "\n",
              "          const docLinkHtml = 'Like what you see? Visit the ' +\n",
              "            '<a target=\"_blank\" href=https://colab.research.google.com/notebooks/data_table.ipynb>data table notebook</a>'\n",
              "            + ' to learn more about interactive tables.';\n",
              "          element.innerHTML = '';\n",
              "          dataTable['output_type'] = 'display_data';\n",
              "          await google.colab.output.renderOutput(dataTable, element);\n",
              "          const docLink = document.createElement('div');\n",
              "          docLink.innerHTML = docLinkHtml;\n",
              "          element.appendChild(docLink);\n",
              "        }\n",
              "      </script>\n",
              "    </div>\n",
              "  </div>\n",
              "  "
            ]
          },
          "metadata": {},
          "execution_count": 39
        }
      ],
      "source": [
        "df"
      ]
    },
    {
      "cell_type": "code",
      "execution_count": 42,
      "metadata": {
        "colab": {
          "base_uri": "https://localhost:8080/",
          "height": 35
        },
        "id": "dV5K4_7dsoLV",
        "outputId": "e36d5244-7528-4c53-a468-c1820cc3f515"
      },
      "outputs": [
        {
          "output_type": "execute_result",
          "data": {
            "text/plain": [
              "'Great staff and food. \\xa0Must try is the pan fried Gnocchi! \\xa0The staff were really friendly and the coffee was good as well'"
            ],
            "application/vnd.google.colaboratory.intrinsic+json": {
              "type": "string"
            }
          },
          "metadata": {},
          "execution_count": 42
        }
      ],
      "source": [
        "df['review'].iloc[3]"
      ]
    },
    {
      "cell_type": "code",
      "execution_count": null,
      "metadata": {
        "id": "eQD7Y9iBsoLV"
      },
      "outputs": [],
      "source": []
    }
  ],
  "metadata": {
    "kernelspec": {
      "display_name": "sentiment",
      "language": "python",
      "name": "sentiment"
    },
    "language_info": {
      "codemirror_mode": {
        "name": "ipython",
        "version": 3
      },
      "file_extension": ".py",
      "mimetype": "text/x-python",
      "name": "python",
      "nbconvert_exporter": "python",
      "pygments_lexer": "ipython3",
      "version": "3.7.3"
    },
    "colab": {
      "provenance": []
    },
    "widgets": {
      "application/vnd.jupyter.widget-state+json": {
        "9f38e7e1b2a4431bbc4b8d55a389881b": {
          "model_module": "@jupyter-widgets/controls",
          "model_name": "HBoxModel",
          "model_module_version": "1.5.0",
          "state": {
            "_dom_classes": [],
            "_model_module": "@jupyter-widgets/controls",
            "_model_module_version": "1.5.0",
            "_model_name": "HBoxModel",
            "_view_count": null,
            "_view_module": "@jupyter-widgets/controls",
            "_view_module_version": "1.5.0",
            "_view_name": "HBoxView",
            "box_style": "",
            "children": [
              "IPY_MODEL_e970e26ae31e4df78423d98db194fe02",
              "IPY_MODEL_d71e6941542c469592510f4dae166b01",
              "IPY_MODEL_27339fef4d0845cea24fcaf86f05fae1"
            ],
            "layout": "IPY_MODEL_c77bde60915d4f3f85200b4b823da029"
          }
        },
        "e970e26ae31e4df78423d98db194fe02": {
          "model_module": "@jupyter-widgets/controls",
          "model_name": "HTMLModel",
          "model_module_version": "1.5.0",
          "state": {
            "_dom_classes": [],
            "_model_module": "@jupyter-widgets/controls",
            "_model_module_version": "1.5.0",
            "_model_name": "HTMLModel",
            "_view_count": null,
            "_view_module": "@jupyter-widgets/controls",
            "_view_module_version": "1.5.0",
            "_view_name": "HTMLView",
            "description": "",
            "description_tooltip": null,
            "layout": "IPY_MODEL_a9c01e6dc1e6491db0114d14206df224",
            "placeholder": "​",
            "style": "IPY_MODEL_6dcefa463e63496182f513a606e4c55d",
            "value": "Downloading (…)okenizer_config.json: 100%"
          }
        },
        "d71e6941542c469592510f4dae166b01": {
          "model_module": "@jupyter-widgets/controls",
          "model_name": "FloatProgressModel",
          "model_module_version": "1.5.0",
          "state": {
            "_dom_classes": [],
            "_model_module": "@jupyter-widgets/controls",
            "_model_module_version": "1.5.0",
            "_model_name": "FloatProgressModel",
            "_view_count": null,
            "_view_module": "@jupyter-widgets/controls",
            "_view_module_version": "1.5.0",
            "_view_name": "ProgressView",
            "bar_style": "success",
            "description": "",
            "description_tooltip": null,
            "layout": "IPY_MODEL_1cdbe5e3726f4c1d961480d74fdb8095",
            "max": 39,
            "min": 0,
            "orientation": "horizontal",
            "style": "IPY_MODEL_fbcaa5d3ccdc4b2d9e4a4a422ec579be",
            "value": 39
          }
        },
        "27339fef4d0845cea24fcaf86f05fae1": {
          "model_module": "@jupyter-widgets/controls",
          "model_name": "HTMLModel",
          "model_module_version": "1.5.0",
          "state": {
            "_dom_classes": [],
            "_model_module": "@jupyter-widgets/controls",
            "_model_module_version": "1.5.0",
            "_model_name": "HTMLModel",
            "_view_count": null,
            "_view_module": "@jupyter-widgets/controls",
            "_view_module_version": "1.5.0",
            "_view_name": "HTMLView",
            "description": "",
            "description_tooltip": null,
            "layout": "IPY_MODEL_14888f9e427e46948f43323e4bb9ec1a",
            "placeholder": "​",
            "style": "IPY_MODEL_7253ad6f535c43c3845ab81892e78d5f",
            "value": " 39.0/39.0 [00:00&lt;00:00, 2.40kB/s]"
          }
        },
        "c77bde60915d4f3f85200b4b823da029": {
          "model_module": "@jupyter-widgets/base",
          "model_name": "LayoutModel",
          "model_module_version": "1.2.0",
          "state": {
            "_model_module": "@jupyter-widgets/base",
            "_model_module_version": "1.2.0",
            "_model_name": "LayoutModel",
            "_view_count": null,
            "_view_module": "@jupyter-widgets/base",
            "_view_module_version": "1.2.0",
            "_view_name": "LayoutView",
            "align_content": null,
            "align_items": null,
            "align_self": null,
            "border": null,
            "bottom": null,
            "display": null,
            "flex": null,
            "flex_flow": null,
            "grid_area": null,
            "grid_auto_columns": null,
            "grid_auto_flow": null,
            "grid_auto_rows": null,
            "grid_column": null,
            "grid_gap": null,
            "grid_row": null,
            "grid_template_areas": null,
            "grid_template_columns": null,
            "grid_template_rows": null,
            "height": null,
            "justify_content": null,
            "justify_items": null,
            "left": null,
            "margin": null,
            "max_height": null,
            "max_width": null,
            "min_height": null,
            "min_width": null,
            "object_fit": null,
            "object_position": null,
            "order": null,
            "overflow": null,
            "overflow_x": null,
            "overflow_y": null,
            "padding": null,
            "right": null,
            "top": null,
            "visibility": null,
            "width": null
          }
        },
        "a9c01e6dc1e6491db0114d14206df224": {
          "model_module": "@jupyter-widgets/base",
          "model_name": "LayoutModel",
          "model_module_version": "1.2.0",
          "state": {
            "_model_module": "@jupyter-widgets/base",
            "_model_module_version": "1.2.0",
            "_model_name": "LayoutModel",
            "_view_count": null,
            "_view_module": "@jupyter-widgets/base",
            "_view_module_version": "1.2.0",
            "_view_name": "LayoutView",
            "align_content": null,
            "align_items": null,
            "align_self": null,
            "border": null,
            "bottom": null,
            "display": null,
            "flex": null,
            "flex_flow": null,
            "grid_area": null,
            "grid_auto_columns": null,
            "grid_auto_flow": null,
            "grid_auto_rows": null,
            "grid_column": null,
            "grid_gap": null,
            "grid_row": null,
            "grid_template_areas": null,
            "grid_template_columns": null,
            "grid_template_rows": null,
            "height": null,
            "justify_content": null,
            "justify_items": null,
            "left": null,
            "margin": null,
            "max_height": null,
            "max_width": null,
            "min_height": null,
            "min_width": null,
            "object_fit": null,
            "object_position": null,
            "order": null,
            "overflow": null,
            "overflow_x": null,
            "overflow_y": null,
            "padding": null,
            "right": null,
            "top": null,
            "visibility": null,
            "width": null
          }
        },
        "6dcefa463e63496182f513a606e4c55d": {
          "model_module": "@jupyter-widgets/controls",
          "model_name": "DescriptionStyleModel",
          "model_module_version": "1.5.0",
          "state": {
            "_model_module": "@jupyter-widgets/controls",
            "_model_module_version": "1.5.0",
            "_model_name": "DescriptionStyleModel",
            "_view_count": null,
            "_view_module": "@jupyter-widgets/base",
            "_view_module_version": "1.2.0",
            "_view_name": "StyleView",
            "description_width": ""
          }
        },
        "1cdbe5e3726f4c1d961480d74fdb8095": {
          "model_module": "@jupyter-widgets/base",
          "model_name": "LayoutModel",
          "model_module_version": "1.2.0",
          "state": {
            "_model_module": "@jupyter-widgets/base",
            "_model_module_version": "1.2.0",
            "_model_name": "LayoutModel",
            "_view_count": null,
            "_view_module": "@jupyter-widgets/base",
            "_view_module_version": "1.2.0",
            "_view_name": "LayoutView",
            "align_content": null,
            "align_items": null,
            "align_self": null,
            "border": null,
            "bottom": null,
            "display": null,
            "flex": null,
            "flex_flow": null,
            "grid_area": null,
            "grid_auto_columns": null,
            "grid_auto_flow": null,
            "grid_auto_rows": null,
            "grid_column": null,
            "grid_gap": null,
            "grid_row": null,
            "grid_template_areas": null,
            "grid_template_columns": null,
            "grid_template_rows": null,
            "height": null,
            "justify_content": null,
            "justify_items": null,
            "left": null,
            "margin": null,
            "max_height": null,
            "max_width": null,
            "min_height": null,
            "min_width": null,
            "object_fit": null,
            "object_position": null,
            "order": null,
            "overflow": null,
            "overflow_x": null,
            "overflow_y": null,
            "padding": null,
            "right": null,
            "top": null,
            "visibility": null,
            "width": null
          }
        },
        "fbcaa5d3ccdc4b2d9e4a4a422ec579be": {
          "model_module": "@jupyter-widgets/controls",
          "model_name": "ProgressStyleModel",
          "model_module_version": "1.5.0",
          "state": {
            "_model_module": "@jupyter-widgets/controls",
            "_model_module_version": "1.5.0",
            "_model_name": "ProgressStyleModel",
            "_view_count": null,
            "_view_module": "@jupyter-widgets/base",
            "_view_module_version": "1.2.0",
            "_view_name": "StyleView",
            "bar_color": null,
            "description_width": ""
          }
        },
        "14888f9e427e46948f43323e4bb9ec1a": {
          "model_module": "@jupyter-widgets/base",
          "model_name": "LayoutModel",
          "model_module_version": "1.2.0",
          "state": {
            "_model_module": "@jupyter-widgets/base",
            "_model_module_version": "1.2.0",
            "_model_name": "LayoutModel",
            "_view_count": null,
            "_view_module": "@jupyter-widgets/base",
            "_view_module_version": "1.2.0",
            "_view_name": "LayoutView",
            "align_content": null,
            "align_items": null,
            "align_self": null,
            "border": null,
            "bottom": null,
            "display": null,
            "flex": null,
            "flex_flow": null,
            "grid_area": null,
            "grid_auto_columns": null,
            "grid_auto_flow": null,
            "grid_auto_rows": null,
            "grid_column": null,
            "grid_gap": null,
            "grid_row": null,
            "grid_template_areas": null,
            "grid_template_columns": null,
            "grid_template_rows": null,
            "height": null,
            "justify_content": null,
            "justify_items": null,
            "left": null,
            "margin": null,
            "max_height": null,
            "max_width": null,
            "min_height": null,
            "min_width": null,
            "object_fit": null,
            "object_position": null,
            "order": null,
            "overflow": null,
            "overflow_x": null,
            "overflow_y": null,
            "padding": null,
            "right": null,
            "top": null,
            "visibility": null,
            "width": null
          }
        },
        "7253ad6f535c43c3845ab81892e78d5f": {
          "model_module": "@jupyter-widgets/controls",
          "model_name": "DescriptionStyleModel",
          "model_module_version": "1.5.0",
          "state": {
            "_model_module": "@jupyter-widgets/controls",
            "_model_module_version": "1.5.0",
            "_model_name": "DescriptionStyleModel",
            "_view_count": null,
            "_view_module": "@jupyter-widgets/base",
            "_view_module_version": "1.2.0",
            "_view_name": "StyleView",
            "description_width": ""
          }
        },
        "f487fdbb85a34da7b942c7003a896134": {
          "model_module": "@jupyter-widgets/controls",
          "model_name": "HBoxModel",
          "model_module_version": "1.5.0",
          "state": {
            "_dom_classes": [],
            "_model_module": "@jupyter-widgets/controls",
            "_model_module_version": "1.5.0",
            "_model_name": "HBoxModel",
            "_view_count": null,
            "_view_module": "@jupyter-widgets/controls",
            "_view_module_version": "1.5.0",
            "_view_name": "HBoxView",
            "box_style": "",
            "children": [
              "IPY_MODEL_737f7a3fbedb45c795287f372b492670",
              "IPY_MODEL_178920c9db8e400fb97ec46bd1aec132",
              "IPY_MODEL_5e8dfef17ef54c249a8bdafce436c28c"
            ],
            "layout": "IPY_MODEL_58a5b2dcec414ab7a9330db8a889a3ec"
          }
        },
        "737f7a3fbedb45c795287f372b492670": {
          "model_module": "@jupyter-widgets/controls",
          "model_name": "HTMLModel",
          "model_module_version": "1.5.0",
          "state": {
            "_dom_classes": [],
            "_model_module": "@jupyter-widgets/controls",
            "_model_module_version": "1.5.0",
            "_model_name": "HTMLModel",
            "_view_count": null,
            "_view_module": "@jupyter-widgets/controls",
            "_view_module_version": "1.5.0",
            "_view_name": "HTMLView",
            "description": "",
            "description_tooltip": null,
            "layout": "IPY_MODEL_115bc51051954304b35c26635eaf35e0",
            "placeholder": "​",
            "style": "IPY_MODEL_cb009af40db9489ba783cb78e7a9a9a7",
            "value": "Downloading (…)lve/main/config.json: 100%"
          }
        },
        "178920c9db8e400fb97ec46bd1aec132": {
          "model_module": "@jupyter-widgets/controls",
          "model_name": "FloatProgressModel",
          "model_module_version": "1.5.0",
          "state": {
            "_dom_classes": [],
            "_model_module": "@jupyter-widgets/controls",
            "_model_module_version": "1.5.0",
            "_model_name": "FloatProgressModel",
            "_view_count": null,
            "_view_module": "@jupyter-widgets/controls",
            "_view_module_version": "1.5.0",
            "_view_name": "ProgressView",
            "bar_style": "success",
            "description": "",
            "description_tooltip": null,
            "layout": "IPY_MODEL_4db40c8a08a1463586bcb6d191202288",
            "max": 953,
            "min": 0,
            "orientation": "horizontal",
            "style": "IPY_MODEL_2cad6c13e7f94472b40db7360bc4fc0e",
            "value": 953
          }
        },
        "5e8dfef17ef54c249a8bdafce436c28c": {
          "model_module": "@jupyter-widgets/controls",
          "model_name": "HTMLModel",
          "model_module_version": "1.5.0",
          "state": {
            "_dom_classes": [],
            "_model_module": "@jupyter-widgets/controls",
            "_model_module_version": "1.5.0",
            "_model_name": "HTMLModel",
            "_view_count": null,
            "_view_module": "@jupyter-widgets/controls",
            "_view_module_version": "1.5.0",
            "_view_name": "HTMLView",
            "description": "",
            "description_tooltip": null,
            "layout": "IPY_MODEL_6b083ed1c2f041cabd1fca69454c44e2",
            "placeholder": "​",
            "style": "IPY_MODEL_dbc980218b6f41698638f21854d01c4a",
            "value": " 953/953 [00:00&lt;00:00, 66.7kB/s]"
          }
        },
        "58a5b2dcec414ab7a9330db8a889a3ec": {
          "model_module": "@jupyter-widgets/base",
          "model_name": "LayoutModel",
          "model_module_version": "1.2.0",
          "state": {
            "_model_module": "@jupyter-widgets/base",
            "_model_module_version": "1.2.0",
            "_model_name": "LayoutModel",
            "_view_count": null,
            "_view_module": "@jupyter-widgets/base",
            "_view_module_version": "1.2.0",
            "_view_name": "LayoutView",
            "align_content": null,
            "align_items": null,
            "align_self": null,
            "border": null,
            "bottom": null,
            "display": null,
            "flex": null,
            "flex_flow": null,
            "grid_area": null,
            "grid_auto_columns": null,
            "grid_auto_flow": null,
            "grid_auto_rows": null,
            "grid_column": null,
            "grid_gap": null,
            "grid_row": null,
            "grid_template_areas": null,
            "grid_template_columns": null,
            "grid_template_rows": null,
            "height": null,
            "justify_content": null,
            "justify_items": null,
            "left": null,
            "margin": null,
            "max_height": null,
            "max_width": null,
            "min_height": null,
            "min_width": null,
            "object_fit": null,
            "object_position": null,
            "order": null,
            "overflow": null,
            "overflow_x": null,
            "overflow_y": null,
            "padding": null,
            "right": null,
            "top": null,
            "visibility": null,
            "width": null
          }
        },
        "115bc51051954304b35c26635eaf35e0": {
          "model_module": "@jupyter-widgets/base",
          "model_name": "LayoutModel",
          "model_module_version": "1.2.0",
          "state": {
            "_model_module": "@jupyter-widgets/base",
            "_model_module_version": "1.2.0",
            "_model_name": "LayoutModel",
            "_view_count": null,
            "_view_module": "@jupyter-widgets/base",
            "_view_module_version": "1.2.0",
            "_view_name": "LayoutView",
            "align_content": null,
            "align_items": null,
            "align_self": null,
            "border": null,
            "bottom": null,
            "display": null,
            "flex": null,
            "flex_flow": null,
            "grid_area": null,
            "grid_auto_columns": null,
            "grid_auto_flow": null,
            "grid_auto_rows": null,
            "grid_column": null,
            "grid_gap": null,
            "grid_row": null,
            "grid_template_areas": null,
            "grid_template_columns": null,
            "grid_template_rows": null,
            "height": null,
            "justify_content": null,
            "justify_items": null,
            "left": null,
            "margin": null,
            "max_height": null,
            "max_width": null,
            "min_height": null,
            "min_width": null,
            "object_fit": null,
            "object_position": null,
            "order": null,
            "overflow": null,
            "overflow_x": null,
            "overflow_y": null,
            "padding": null,
            "right": null,
            "top": null,
            "visibility": null,
            "width": null
          }
        },
        "cb009af40db9489ba783cb78e7a9a9a7": {
          "model_module": "@jupyter-widgets/controls",
          "model_name": "DescriptionStyleModel",
          "model_module_version": "1.5.0",
          "state": {
            "_model_module": "@jupyter-widgets/controls",
            "_model_module_version": "1.5.0",
            "_model_name": "DescriptionStyleModel",
            "_view_count": null,
            "_view_module": "@jupyter-widgets/base",
            "_view_module_version": "1.2.0",
            "_view_name": "StyleView",
            "description_width": ""
          }
        },
        "4db40c8a08a1463586bcb6d191202288": {
          "model_module": "@jupyter-widgets/base",
          "model_name": "LayoutModel",
          "model_module_version": "1.2.0",
          "state": {
            "_model_module": "@jupyter-widgets/base",
            "_model_module_version": "1.2.0",
            "_model_name": "LayoutModel",
            "_view_count": null,
            "_view_module": "@jupyter-widgets/base",
            "_view_module_version": "1.2.0",
            "_view_name": "LayoutView",
            "align_content": null,
            "align_items": null,
            "align_self": null,
            "border": null,
            "bottom": null,
            "display": null,
            "flex": null,
            "flex_flow": null,
            "grid_area": null,
            "grid_auto_columns": null,
            "grid_auto_flow": null,
            "grid_auto_rows": null,
            "grid_column": null,
            "grid_gap": null,
            "grid_row": null,
            "grid_template_areas": null,
            "grid_template_columns": null,
            "grid_template_rows": null,
            "height": null,
            "justify_content": null,
            "justify_items": null,
            "left": null,
            "margin": null,
            "max_height": null,
            "max_width": null,
            "min_height": null,
            "min_width": null,
            "object_fit": null,
            "object_position": null,
            "order": null,
            "overflow": null,
            "overflow_x": null,
            "overflow_y": null,
            "padding": null,
            "right": null,
            "top": null,
            "visibility": null,
            "width": null
          }
        },
        "2cad6c13e7f94472b40db7360bc4fc0e": {
          "model_module": "@jupyter-widgets/controls",
          "model_name": "ProgressStyleModel",
          "model_module_version": "1.5.0",
          "state": {
            "_model_module": "@jupyter-widgets/controls",
            "_model_module_version": "1.5.0",
            "_model_name": "ProgressStyleModel",
            "_view_count": null,
            "_view_module": "@jupyter-widgets/base",
            "_view_module_version": "1.2.0",
            "_view_name": "StyleView",
            "bar_color": null,
            "description_width": ""
          }
        },
        "6b083ed1c2f041cabd1fca69454c44e2": {
          "model_module": "@jupyter-widgets/base",
          "model_name": "LayoutModel",
          "model_module_version": "1.2.0",
          "state": {
            "_model_module": "@jupyter-widgets/base",
            "_model_module_version": "1.2.0",
            "_model_name": "LayoutModel",
            "_view_count": null,
            "_view_module": "@jupyter-widgets/base",
            "_view_module_version": "1.2.0",
            "_view_name": "LayoutView",
            "align_content": null,
            "align_items": null,
            "align_self": null,
            "border": null,
            "bottom": null,
            "display": null,
            "flex": null,
            "flex_flow": null,
            "grid_area": null,
            "grid_auto_columns": null,
            "grid_auto_flow": null,
            "grid_auto_rows": null,
            "grid_column": null,
            "grid_gap": null,
            "grid_row": null,
            "grid_template_areas": null,
            "grid_template_columns": null,
            "grid_template_rows": null,
            "height": null,
            "justify_content": null,
            "justify_items": null,
            "left": null,
            "margin": null,
            "max_height": null,
            "max_width": null,
            "min_height": null,
            "min_width": null,
            "object_fit": null,
            "object_position": null,
            "order": null,
            "overflow": null,
            "overflow_x": null,
            "overflow_y": null,
            "padding": null,
            "right": null,
            "top": null,
            "visibility": null,
            "width": null
          }
        },
        "dbc980218b6f41698638f21854d01c4a": {
          "model_module": "@jupyter-widgets/controls",
          "model_name": "DescriptionStyleModel",
          "model_module_version": "1.5.0",
          "state": {
            "_model_module": "@jupyter-widgets/controls",
            "_model_module_version": "1.5.0",
            "_model_name": "DescriptionStyleModel",
            "_view_count": null,
            "_view_module": "@jupyter-widgets/base",
            "_view_module_version": "1.2.0",
            "_view_name": "StyleView",
            "description_width": ""
          }
        },
        "b35b15bbd5754dd7a49f7bbf1df2f0a2": {
          "model_module": "@jupyter-widgets/controls",
          "model_name": "HBoxModel",
          "model_module_version": "1.5.0",
          "state": {
            "_dom_classes": [],
            "_model_module": "@jupyter-widgets/controls",
            "_model_module_version": "1.5.0",
            "_model_name": "HBoxModel",
            "_view_count": null,
            "_view_module": "@jupyter-widgets/controls",
            "_view_module_version": "1.5.0",
            "_view_name": "HBoxView",
            "box_style": "",
            "children": [
              "IPY_MODEL_553a5ad2cd5b4eab9f396197d8db2a23",
              "IPY_MODEL_eaf838f54b1d4dc183123417f3e3e550",
              "IPY_MODEL_050ffaf8a6a742cf8bbe776613ba0fda"
            ],
            "layout": "IPY_MODEL_c6f7fa256a6145b0ab90491f63d078dc"
          }
        },
        "553a5ad2cd5b4eab9f396197d8db2a23": {
          "model_module": "@jupyter-widgets/controls",
          "model_name": "HTMLModel",
          "model_module_version": "1.5.0",
          "state": {
            "_dom_classes": [],
            "_model_module": "@jupyter-widgets/controls",
            "_model_module_version": "1.5.0",
            "_model_name": "HTMLModel",
            "_view_count": null,
            "_view_module": "@jupyter-widgets/controls",
            "_view_module_version": "1.5.0",
            "_view_name": "HTMLView",
            "description": "",
            "description_tooltip": null,
            "layout": "IPY_MODEL_84fddbb2c9784567baaf3f56f50ff125",
            "placeholder": "​",
            "style": "IPY_MODEL_2885f71727e744aabcf696a22ed90d1d",
            "value": "Downloading (…)solve/main/vocab.txt: 100%"
          }
        },
        "eaf838f54b1d4dc183123417f3e3e550": {
          "model_module": "@jupyter-widgets/controls",
          "model_name": "FloatProgressModel",
          "model_module_version": "1.5.0",
          "state": {
            "_dom_classes": [],
            "_model_module": "@jupyter-widgets/controls",
            "_model_module_version": "1.5.0",
            "_model_name": "FloatProgressModel",
            "_view_count": null,
            "_view_module": "@jupyter-widgets/controls",
            "_view_module_version": "1.5.0",
            "_view_name": "ProgressView",
            "bar_style": "success",
            "description": "",
            "description_tooltip": null,
            "layout": "IPY_MODEL_4e6f60c7bb064c2a82592a330de58416",
            "max": 871891,
            "min": 0,
            "orientation": "horizontal",
            "style": "IPY_MODEL_8665fc39677c40e98d5baf53bad7fd54",
            "value": 871891
          }
        },
        "050ffaf8a6a742cf8bbe776613ba0fda": {
          "model_module": "@jupyter-widgets/controls",
          "model_name": "HTMLModel",
          "model_module_version": "1.5.0",
          "state": {
            "_dom_classes": [],
            "_model_module": "@jupyter-widgets/controls",
            "_model_module_version": "1.5.0",
            "_model_name": "HTMLModel",
            "_view_count": null,
            "_view_module": "@jupyter-widgets/controls",
            "_view_module_version": "1.5.0",
            "_view_name": "HTMLView",
            "description": "",
            "description_tooltip": null,
            "layout": "IPY_MODEL_ff5583c486ac4a3f99f970727bfde362",
            "placeholder": "​",
            "style": "IPY_MODEL_01ca07de2ea0408387a28b68224e7c12",
            "value": " 872k/872k [00:00&lt;00:00, 37.9MB/s]"
          }
        },
        "c6f7fa256a6145b0ab90491f63d078dc": {
          "model_module": "@jupyter-widgets/base",
          "model_name": "LayoutModel",
          "model_module_version": "1.2.0",
          "state": {
            "_model_module": "@jupyter-widgets/base",
            "_model_module_version": "1.2.0",
            "_model_name": "LayoutModel",
            "_view_count": null,
            "_view_module": "@jupyter-widgets/base",
            "_view_module_version": "1.2.0",
            "_view_name": "LayoutView",
            "align_content": null,
            "align_items": null,
            "align_self": null,
            "border": null,
            "bottom": null,
            "display": null,
            "flex": null,
            "flex_flow": null,
            "grid_area": null,
            "grid_auto_columns": null,
            "grid_auto_flow": null,
            "grid_auto_rows": null,
            "grid_column": null,
            "grid_gap": null,
            "grid_row": null,
            "grid_template_areas": null,
            "grid_template_columns": null,
            "grid_template_rows": null,
            "height": null,
            "justify_content": null,
            "justify_items": null,
            "left": null,
            "margin": null,
            "max_height": null,
            "max_width": null,
            "min_height": null,
            "min_width": null,
            "object_fit": null,
            "object_position": null,
            "order": null,
            "overflow": null,
            "overflow_x": null,
            "overflow_y": null,
            "padding": null,
            "right": null,
            "top": null,
            "visibility": null,
            "width": null
          }
        },
        "84fddbb2c9784567baaf3f56f50ff125": {
          "model_module": "@jupyter-widgets/base",
          "model_name": "LayoutModel",
          "model_module_version": "1.2.0",
          "state": {
            "_model_module": "@jupyter-widgets/base",
            "_model_module_version": "1.2.0",
            "_model_name": "LayoutModel",
            "_view_count": null,
            "_view_module": "@jupyter-widgets/base",
            "_view_module_version": "1.2.0",
            "_view_name": "LayoutView",
            "align_content": null,
            "align_items": null,
            "align_self": null,
            "border": null,
            "bottom": null,
            "display": null,
            "flex": null,
            "flex_flow": null,
            "grid_area": null,
            "grid_auto_columns": null,
            "grid_auto_flow": null,
            "grid_auto_rows": null,
            "grid_column": null,
            "grid_gap": null,
            "grid_row": null,
            "grid_template_areas": null,
            "grid_template_columns": null,
            "grid_template_rows": null,
            "height": null,
            "justify_content": null,
            "justify_items": null,
            "left": null,
            "margin": null,
            "max_height": null,
            "max_width": null,
            "min_height": null,
            "min_width": null,
            "object_fit": null,
            "object_position": null,
            "order": null,
            "overflow": null,
            "overflow_x": null,
            "overflow_y": null,
            "padding": null,
            "right": null,
            "top": null,
            "visibility": null,
            "width": null
          }
        },
        "2885f71727e744aabcf696a22ed90d1d": {
          "model_module": "@jupyter-widgets/controls",
          "model_name": "DescriptionStyleModel",
          "model_module_version": "1.5.0",
          "state": {
            "_model_module": "@jupyter-widgets/controls",
            "_model_module_version": "1.5.0",
            "_model_name": "DescriptionStyleModel",
            "_view_count": null,
            "_view_module": "@jupyter-widgets/base",
            "_view_module_version": "1.2.0",
            "_view_name": "StyleView",
            "description_width": ""
          }
        },
        "4e6f60c7bb064c2a82592a330de58416": {
          "model_module": "@jupyter-widgets/base",
          "model_name": "LayoutModel",
          "model_module_version": "1.2.0",
          "state": {
            "_model_module": "@jupyter-widgets/base",
            "_model_module_version": "1.2.0",
            "_model_name": "LayoutModel",
            "_view_count": null,
            "_view_module": "@jupyter-widgets/base",
            "_view_module_version": "1.2.0",
            "_view_name": "LayoutView",
            "align_content": null,
            "align_items": null,
            "align_self": null,
            "border": null,
            "bottom": null,
            "display": null,
            "flex": null,
            "flex_flow": null,
            "grid_area": null,
            "grid_auto_columns": null,
            "grid_auto_flow": null,
            "grid_auto_rows": null,
            "grid_column": null,
            "grid_gap": null,
            "grid_row": null,
            "grid_template_areas": null,
            "grid_template_columns": null,
            "grid_template_rows": null,
            "height": null,
            "justify_content": null,
            "justify_items": null,
            "left": null,
            "margin": null,
            "max_height": null,
            "max_width": null,
            "min_height": null,
            "min_width": null,
            "object_fit": null,
            "object_position": null,
            "order": null,
            "overflow": null,
            "overflow_x": null,
            "overflow_y": null,
            "padding": null,
            "right": null,
            "top": null,
            "visibility": null,
            "width": null
          }
        },
        "8665fc39677c40e98d5baf53bad7fd54": {
          "model_module": "@jupyter-widgets/controls",
          "model_name": "ProgressStyleModel",
          "model_module_version": "1.5.0",
          "state": {
            "_model_module": "@jupyter-widgets/controls",
            "_model_module_version": "1.5.0",
            "_model_name": "ProgressStyleModel",
            "_view_count": null,
            "_view_module": "@jupyter-widgets/base",
            "_view_module_version": "1.2.0",
            "_view_name": "StyleView",
            "bar_color": null,
            "description_width": ""
          }
        },
        "ff5583c486ac4a3f99f970727bfde362": {
          "model_module": "@jupyter-widgets/base",
          "model_name": "LayoutModel",
          "model_module_version": "1.2.0",
          "state": {
            "_model_module": "@jupyter-widgets/base",
            "_model_module_version": "1.2.0",
            "_model_name": "LayoutModel",
            "_view_count": null,
            "_view_module": "@jupyter-widgets/base",
            "_view_module_version": "1.2.0",
            "_view_name": "LayoutView",
            "align_content": null,
            "align_items": null,
            "align_self": null,
            "border": null,
            "bottom": null,
            "display": null,
            "flex": null,
            "flex_flow": null,
            "grid_area": null,
            "grid_auto_columns": null,
            "grid_auto_flow": null,
            "grid_auto_rows": null,
            "grid_column": null,
            "grid_gap": null,
            "grid_row": null,
            "grid_template_areas": null,
            "grid_template_columns": null,
            "grid_template_rows": null,
            "height": null,
            "justify_content": null,
            "justify_items": null,
            "left": null,
            "margin": null,
            "max_height": null,
            "max_width": null,
            "min_height": null,
            "min_width": null,
            "object_fit": null,
            "object_position": null,
            "order": null,
            "overflow": null,
            "overflow_x": null,
            "overflow_y": null,
            "padding": null,
            "right": null,
            "top": null,
            "visibility": null,
            "width": null
          }
        },
        "01ca07de2ea0408387a28b68224e7c12": {
          "model_module": "@jupyter-widgets/controls",
          "model_name": "DescriptionStyleModel",
          "model_module_version": "1.5.0",
          "state": {
            "_model_module": "@jupyter-widgets/controls",
            "_model_module_version": "1.5.0",
            "_model_name": "DescriptionStyleModel",
            "_view_count": null,
            "_view_module": "@jupyter-widgets/base",
            "_view_module_version": "1.2.0",
            "_view_name": "StyleView",
            "description_width": ""
          }
        },
        "849491c813b64691a768b393ec361b0f": {
          "model_module": "@jupyter-widgets/controls",
          "model_name": "HBoxModel",
          "model_module_version": "1.5.0",
          "state": {
            "_dom_classes": [],
            "_model_module": "@jupyter-widgets/controls",
            "_model_module_version": "1.5.0",
            "_model_name": "HBoxModel",
            "_view_count": null,
            "_view_module": "@jupyter-widgets/controls",
            "_view_module_version": "1.5.0",
            "_view_name": "HBoxView",
            "box_style": "",
            "children": [
              "IPY_MODEL_ed776d8951a043eb8079bebb469bda6c",
              "IPY_MODEL_9be5a8c9afe5432dbce4c5be0f6ce2ba",
              "IPY_MODEL_730b42c94ef74e06b5388f074021f5c4"
            ],
            "layout": "IPY_MODEL_aa71136895814198aa6c04c5295c657b"
          }
        },
        "ed776d8951a043eb8079bebb469bda6c": {
          "model_module": "@jupyter-widgets/controls",
          "model_name": "HTMLModel",
          "model_module_version": "1.5.0",
          "state": {
            "_dom_classes": [],
            "_model_module": "@jupyter-widgets/controls",
            "_model_module_version": "1.5.0",
            "_model_name": "HTMLModel",
            "_view_count": null,
            "_view_module": "@jupyter-widgets/controls",
            "_view_module_version": "1.5.0",
            "_view_name": "HTMLView",
            "description": "",
            "description_tooltip": null,
            "layout": "IPY_MODEL_7c0c349299ae4171b2022f6f27baaa98",
            "placeholder": "​",
            "style": "IPY_MODEL_22f03d65e20844988f2c547bbeb4153f",
            "value": "Downloading (…)cial_tokens_map.json: 100%"
          }
        },
        "9be5a8c9afe5432dbce4c5be0f6ce2ba": {
          "model_module": "@jupyter-widgets/controls",
          "model_name": "FloatProgressModel",
          "model_module_version": "1.5.0",
          "state": {
            "_dom_classes": [],
            "_model_module": "@jupyter-widgets/controls",
            "_model_module_version": "1.5.0",
            "_model_name": "FloatProgressModel",
            "_view_count": null,
            "_view_module": "@jupyter-widgets/controls",
            "_view_module_version": "1.5.0",
            "_view_name": "ProgressView",
            "bar_style": "success",
            "description": "",
            "description_tooltip": null,
            "layout": "IPY_MODEL_4f87e61cdb0240cfa8feb72662426e1b",
            "max": 112,
            "min": 0,
            "orientation": "horizontal",
            "style": "IPY_MODEL_69dec8be32c7478a9b5627d2c2590b56",
            "value": 112
          }
        },
        "730b42c94ef74e06b5388f074021f5c4": {
          "model_module": "@jupyter-widgets/controls",
          "model_name": "HTMLModel",
          "model_module_version": "1.5.0",
          "state": {
            "_dom_classes": [],
            "_model_module": "@jupyter-widgets/controls",
            "_model_module_version": "1.5.0",
            "_model_name": "HTMLModel",
            "_view_count": null,
            "_view_module": "@jupyter-widgets/controls",
            "_view_module_version": "1.5.0",
            "_view_name": "HTMLView",
            "description": "",
            "description_tooltip": null,
            "layout": "IPY_MODEL_7406c3fa59834a00ae505e36215cce67",
            "placeholder": "​",
            "style": "IPY_MODEL_2274ef58ce8644b588df8e7bb6d26897",
            "value": " 112/112 [00:00&lt;00:00, 5.68kB/s]"
          }
        },
        "aa71136895814198aa6c04c5295c657b": {
          "model_module": "@jupyter-widgets/base",
          "model_name": "LayoutModel",
          "model_module_version": "1.2.0",
          "state": {
            "_model_module": "@jupyter-widgets/base",
            "_model_module_version": "1.2.0",
            "_model_name": "LayoutModel",
            "_view_count": null,
            "_view_module": "@jupyter-widgets/base",
            "_view_module_version": "1.2.0",
            "_view_name": "LayoutView",
            "align_content": null,
            "align_items": null,
            "align_self": null,
            "border": null,
            "bottom": null,
            "display": null,
            "flex": null,
            "flex_flow": null,
            "grid_area": null,
            "grid_auto_columns": null,
            "grid_auto_flow": null,
            "grid_auto_rows": null,
            "grid_column": null,
            "grid_gap": null,
            "grid_row": null,
            "grid_template_areas": null,
            "grid_template_columns": null,
            "grid_template_rows": null,
            "height": null,
            "justify_content": null,
            "justify_items": null,
            "left": null,
            "margin": null,
            "max_height": null,
            "max_width": null,
            "min_height": null,
            "min_width": null,
            "object_fit": null,
            "object_position": null,
            "order": null,
            "overflow": null,
            "overflow_x": null,
            "overflow_y": null,
            "padding": null,
            "right": null,
            "top": null,
            "visibility": null,
            "width": null
          }
        },
        "7c0c349299ae4171b2022f6f27baaa98": {
          "model_module": "@jupyter-widgets/base",
          "model_name": "LayoutModel",
          "model_module_version": "1.2.0",
          "state": {
            "_model_module": "@jupyter-widgets/base",
            "_model_module_version": "1.2.0",
            "_model_name": "LayoutModel",
            "_view_count": null,
            "_view_module": "@jupyter-widgets/base",
            "_view_module_version": "1.2.0",
            "_view_name": "LayoutView",
            "align_content": null,
            "align_items": null,
            "align_self": null,
            "border": null,
            "bottom": null,
            "display": null,
            "flex": null,
            "flex_flow": null,
            "grid_area": null,
            "grid_auto_columns": null,
            "grid_auto_flow": null,
            "grid_auto_rows": null,
            "grid_column": null,
            "grid_gap": null,
            "grid_row": null,
            "grid_template_areas": null,
            "grid_template_columns": null,
            "grid_template_rows": null,
            "height": null,
            "justify_content": null,
            "justify_items": null,
            "left": null,
            "margin": null,
            "max_height": null,
            "max_width": null,
            "min_height": null,
            "min_width": null,
            "object_fit": null,
            "object_position": null,
            "order": null,
            "overflow": null,
            "overflow_x": null,
            "overflow_y": null,
            "padding": null,
            "right": null,
            "top": null,
            "visibility": null,
            "width": null
          }
        },
        "22f03d65e20844988f2c547bbeb4153f": {
          "model_module": "@jupyter-widgets/controls",
          "model_name": "DescriptionStyleModel",
          "model_module_version": "1.5.0",
          "state": {
            "_model_module": "@jupyter-widgets/controls",
            "_model_module_version": "1.5.0",
            "_model_name": "DescriptionStyleModel",
            "_view_count": null,
            "_view_module": "@jupyter-widgets/base",
            "_view_module_version": "1.2.0",
            "_view_name": "StyleView",
            "description_width": ""
          }
        },
        "4f87e61cdb0240cfa8feb72662426e1b": {
          "model_module": "@jupyter-widgets/base",
          "model_name": "LayoutModel",
          "model_module_version": "1.2.0",
          "state": {
            "_model_module": "@jupyter-widgets/base",
            "_model_module_version": "1.2.0",
            "_model_name": "LayoutModel",
            "_view_count": null,
            "_view_module": "@jupyter-widgets/base",
            "_view_module_version": "1.2.0",
            "_view_name": "LayoutView",
            "align_content": null,
            "align_items": null,
            "align_self": null,
            "border": null,
            "bottom": null,
            "display": null,
            "flex": null,
            "flex_flow": null,
            "grid_area": null,
            "grid_auto_columns": null,
            "grid_auto_flow": null,
            "grid_auto_rows": null,
            "grid_column": null,
            "grid_gap": null,
            "grid_row": null,
            "grid_template_areas": null,
            "grid_template_columns": null,
            "grid_template_rows": null,
            "height": null,
            "justify_content": null,
            "justify_items": null,
            "left": null,
            "margin": null,
            "max_height": null,
            "max_width": null,
            "min_height": null,
            "min_width": null,
            "object_fit": null,
            "object_position": null,
            "order": null,
            "overflow": null,
            "overflow_x": null,
            "overflow_y": null,
            "padding": null,
            "right": null,
            "top": null,
            "visibility": null,
            "width": null
          }
        },
        "69dec8be32c7478a9b5627d2c2590b56": {
          "model_module": "@jupyter-widgets/controls",
          "model_name": "ProgressStyleModel",
          "model_module_version": "1.5.0",
          "state": {
            "_model_module": "@jupyter-widgets/controls",
            "_model_module_version": "1.5.0",
            "_model_name": "ProgressStyleModel",
            "_view_count": null,
            "_view_module": "@jupyter-widgets/base",
            "_view_module_version": "1.2.0",
            "_view_name": "StyleView",
            "bar_color": null,
            "description_width": ""
          }
        },
        "7406c3fa59834a00ae505e36215cce67": {
          "model_module": "@jupyter-widgets/base",
          "model_name": "LayoutModel",
          "model_module_version": "1.2.0",
          "state": {
            "_model_module": "@jupyter-widgets/base",
            "_model_module_version": "1.2.0",
            "_model_name": "LayoutModel",
            "_view_count": null,
            "_view_module": "@jupyter-widgets/base",
            "_view_module_version": "1.2.0",
            "_view_name": "LayoutView",
            "align_content": null,
            "align_items": null,
            "align_self": null,
            "border": null,
            "bottom": null,
            "display": null,
            "flex": null,
            "flex_flow": null,
            "grid_area": null,
            "grid_auto_columns": null,
            "grid_auto_flow": null,
            "grid_auto_rows": null,
            "grid_column": null,
            "grid_gap": null,
            "grid_row": null,
            "grid_template_areas": null,
            "grid_template_columns": null,
            "grid_template_rows": null,
            "height": null,
            "justify_content": null,
            "justify_items": null,
            "left": null,
            "margin": null,
            "max_height": null,
            "max_width": null,
            "min_height": null,
            "min_width": null,
            "object_fit": null,
            "object_position": null,
            "order": null,
            "overflow": null,
            "overflow_x": null,
            "overflow_y": null,
            "padding": null,
            "right": null,
            "top": null,
            "visibility": null,
            "width": null
          }
        },
        "2274ef58ce8644b588df8e7bb6d26897": {
          "model_module": "@jupyter-widgets/controls",
          "model_name": "DescriptionStyleModel",
          "model_module_version": "1.5.0",
          "state": {
            "_model_module": "@jupyter-widgets/controls",
            "_model_module_version": "1.5.0",
            "_model_name": "DescriptionStyleModel",
            "_view_count": null,
            "_view_module": "@jupyter-widgets/base",
            "_view_module_version": "1.2.0",
            "_view_name": "StyleView",
            "description_width": ""
          }
        },
        "839735e55d894776b5fde2927005e55d": {
          "model_module": "@jupyter-widgets/controls",
          "model_name": "HBoxModel",
          "model_module_version": "1.5.0",
          "state": {
            "_dom_classes": [],
            "_model_module": "@jupyter-widgets/controls",
            "_model_module_version": "1.5.0",
            "_model_name": "HBoxModel",
            "_view_count": null,
            "_view_module": "@jupyter-widgets/controls",
            "_view_module_version": "1.5.0",
            "_view_name": "HBoxView",
            "box_style": "",
            "children": [
              "IPY_MODEL_762d874a42294b90a5e324d31b2501f4",
              "IPY_MODEL_ffabfe8f745d446e9d7c819b8c2493a5",
              "IPY_MODEL_a571a4305fc345efba5f85f12ef14ac9"
            ],
            "layout": "IPY_MODEL_cb6b95887ed841188448279257555529"
          }
        },
        "762d874a42294b90a5e324d31b2501f4": {
          "model_module": "@jupyter-widgets/controls",
          "model_name": "HTMLModel",
          "model_module_version": "1.5.0",
          "state": {
            "_dom_classes": [],
            "_model_module": "@jupyter-widgets/controls",
            "_model_module_version": "1.5.0",
            "_model_name": "HTMLModel",
            "_view_count": null,
            "_view_module": "@jupyter-widgets/controls",
            "_view_module_version": "1.5.0",
            "_view_name": "HTMLView",
            "description": "",
            "description_tooltip": null,
            "layout": "IPY_MODEL_7b6c3c73c6d34690ad68069e307b2db8",
            "placeholder": "​",
            "style": "IPY_MODEL_e2bdc7e4d3454e618fd8dd273fedc6ec",
            "value": "Downloading pytorch_model.bin: 100%"
          }
        },
        "ffabfe8f745d446e9d7c819b8c2493a5": {
          "model_module": "@jupyter-widgets/controls",
          "model_name": "FloatProgressModel",
          "model_module_version": "1.5.0",
          "state": {
            "_dom_classes": [],
            "_model_module": "@jupyter-widgets/controls",
            "_model_module_version": "1.5.0",
            "_model_name": "FloatProgressModel",
            "_view_count": null,
            "_view_module": "@jupyter-widgets/controls",
            "_view_module_version": "1.5.0",
            "_view_name": "ProgressView",
            "bar_style": "success",
            "description": "",
            "description_tooltip": null,
            "layout": "IPY_MODEL_66b9861b9105404391a44eb42490eedf",
            "max": 669491321,
            "min": 0,
            "orientation": "horizontal",
            "style": "IPY_MODEL_e16d1dd7982c45b5be2bc5afcca9d7b1",
            "value": 669491321
          }
        },
        "a571a4305fc345efba5f85f12ef14ac9": {
          "model_module": "@jupyter-widgets/controls",
          "model_name": "HTMLModel",
          "model_module_version": "1.5.0",
          "state": {
            "_dom_classes": [],
            "_model_module": "@jupyter-widgets/controls",
            "_model_module_version": "1.5.0",
            "_model_name": "HTMLModel",
            "_view_count": null,
            "_view_module": "@jupyter-widgets/controls",
            "_view_module_version": "1.5.0",
            "_view_name": "HTMLView",
            "description": "",
            "description_tooltip": null,
            "layout": "IPY_MODEL_318bb40be7bc4ee1bf74392a7e97dea2",
            "placeholder": "​",
            "style": "IPY_MODEL_798c1dc2c3624750b23f84583dea9013",
            "value": " 669M/669M [00:02&lt;00:00, 263MB/s]"
          }
        },
        "cb6b95887ed841188448279257555529": {
          "model_module": "@jupyter-widgets/base",
          "model_name": "LayoutModel",
          "model_module_version": "1.2.0",
          "state": {
            "_model_module": "@jupyter-widgets/base",
            "_model_module_version": "1.2.0",
            "_model_name": "LayoutModel",
            "_view_count": null,
            "_view_module": "@jupyter-widgets/base",
            "_view_module_version": "1.2.0",
            "_view_name": "LayoutView",
            "align_content": null,
            "align_items": null,
            "align_self": null,
            "border": null,
            "bottom": null,
            "display": null,
            "flex": null,
            "flex_flow": null,
            "grid_area": null,
            "grid_auto_columns": null,
            "grid_auto_flow": null,
            "grid_auto_rows": null,
            "grid_column": null,
            "grid_gap": null,
            "grid_row": null,
            "grid_template_areas": null,
            "grid_template_columns": null,
            "grid_template_rows": null,
            "height": null,
            "justify_content": null,
            "justify_items": null,
            "left": null,
            "margin": null,
            "max_height": null,
            "max_width": null,
            "min_height": null,
            "min_width": null,
            "object_fit": null,
            "object_position": null,
            "order": null,
            "overflow": null,
            "overflow_x": null,
            "overflow_y": null,
            "padding": null,
            "right": null,
            "top": null,
            "visibility": null,
            "width": null
          }
        },
        "7b6c3c73c6d34690ad68069e307b2db8": {
          "model_module": "@jupyter-widgets/base",
          "model_name": "LayoutModel",
          "model_module_version": "1.2.0",
          "state": {
            "_model_module": "@jupyter-widgets/base",
            "_model_module_version": "1.2.0",
            "_model_name": "LayoutModel",
            "_view_count": null,
            "_view_module": "@jupyter-widgets/base",
            "_view_module_version": "1.2.0",
            "_view_name": "LayoutView",
            "align_content": null,
            "align_items": null,
            "align_self": null,
            "border": null,
            "bottom": null,
            "display": null,
            "flex": null,
            "flex_flow": null,
            "grid_area": null,
            "grid_auto_columns": null,
            "grid_auto_flow": null,
            "grid_auto_rows": null,
            "grid_column": null,
            "grid_gap": null,
            "grid_row": null,
            "grid_template_areas": null,
            "grid_template_columns": null,
            "grid_template_rows": null,
            "height": null,
            "justify_content": null,
            "justify_items": null,
            "left": null,
            "margin": null,
            "max_height": null,
            "max_width": null,
            "min_height": null,
            "min_width": null,
            "object_fit": null,
            "object_position": null,
            "order": null,
            "overflow": null,
            "overflow_x": null,
            "overflow_y": null,
            "padding": null,
            "right": null,
            "top": null,
            "visibility": null,
            "width": null
          }
        },
        "e2bdc7e4d3454e618fd8dd273fedc6ec": {
          "model_module": "@jupyter-widgets/controls",
          "model_name": "DescriptionStyleModel",
          "model_module_version": "1.5.0",
          "state": {
            "_model_module": "@jupyter-widgets/controls",
            "_model_module_version": "1.5.0",
            "_model_name": "DescriptionStyleModel",
            "_view_count": null,
            "_view_module": "@jupyter-widgets/base",
            "_view_module_version": "1.2.0",
            "_view_name": "StyleView",
            "description_width": ""
          }
        },
        "66b9861b9105404391a44eb42490eedf": {
          "model_module": "@jupyter-widgets/base",
          "model_name": "LayoutModel",
          "model_module_version": "1.2.0",
          "state": {
            "_model_module": "@jupyter-widgets/base",
            "_model_module_version": "1.2.0",
            "_model_name": "LayoutModel",
            "_view_count": null,
            "_view_module": "@jupyter-widgets/base",
            "_view_module_version": "1.2.0",
            "_view_name": "LayoutView",
            "align_content": null,
            "align_items": null,
            "align_self": null,
            "border": null,
            "bottom": null,
            "display": null,
            "flex": null,
            "flex_flow": null,
            "grid_area": null,
            "grid_auto_columns": null,
            "grid_auto_flow": null,
            "grid_auto_rows": null,
            "grid_column": null,
            "grid_gap": null,
            "grid_row": null,
            "grid_template_areas": null,
            "grid_template_columns": null,
            "grid_template_rows": null,
            "height": null,
            "justify_content": null,
            "justify_items": null,
            "left": null,
            "margin": null,
            "max_height": null,
            "max_width": null,
            "min_height": null,
            "min_width": null,
            "object_fit": null,
            "object_position": null,
            "order": null,
            "overflow": null,
            "overflow_x": null,
            "overflow_y": null,
            "padding": null,
            "right": null,
            "top": null,
            "visibility": null,
            "width": null
          }
        },
        "e16d1dd7982c45b5be2bc5afcca9d7b1": {
          "model_module": "@jupyter-widgets/controls",
          "model_name": "ProgressStyleModel",
          "model_module_version": "1.5.0",
          "state": {
            "_model_module": "@jupyter-widgets/controls",
            "_model_module_version": "1.5.0",
            "_model_name": "ProgressStyleModel",
            "_view_count": null,
            "_view_module": "@jupyter-widgets/base",
            "_view_module_version": "1.2.0",
            "_view_name": "StyleView",
            "bar_color": null,
            "description_width": ""
          }
        },
        "318bb40be7bc4ee1bf74392a7e97dea2": {
          "model_module": "@jupyter-widgets/base",
          "model_name": "LayoutModel",
          "model_module_version": "1.2.0",
          "state": {
            "_model_module": "@jupyter-widgets/base",
            "_model_module_version": "1.2.0",
            "_model_name": "LayoutModel",
            "_view_count": null,
            "_view_module": "@jupyter-widgets/base",
            "_view_module_version": "1.2.0",
            "_view_name": "LayoutView",
            "align_content": null,
            "align_items": null,
            "align_self": null,
            "border": null,
            "bottom": null,
            "display": null,
            "flex": null,
            "flex_flow": null,
            "grid_area": null,
            "grid_auto_columns": null,
            "grid_auto_flow": null,
            "grid_auto_rows": null,
            "grid_column": null,
            "grid_gap": null,
            "grid_row": null,
            "grid_template_areas": null,
            "grid_template_columns": null,
            "grid_template_rows": null,
            "height": null,
            "justify_content": null,
            "justify_items": null,
            "left": null,
            "margin": null,
            "max_height": null,
            "max_width": null,
            "min_height": null,
            "min_width": null,
            "object_fit": null,
            "object_position": null,
            "order": null,
            "overflow": null,
            "overflow_x": null,
            "overflow_y": null,
            "padding": null,
            "right": null,
            "top": null,
            "visibility": null,
            "width": null
          }
        },
        "798c1dc2c3624750b23f84583dea9013": {
          "model_module": "@jupyter-widgets/controls",
          "model_name": "DescriptionStyleModel",
          "model_module_version": "1.5.0",
          "state": {
            "_model_module": "@jupyter-widgets/controls",
            "_model_module_version": "1.5.0",
            "_model_name": "DescriptionStyleModel",
            "_view_count": null,
            "_view_module": "@jupyter-widgets/base",
            "_view_module_version": "1.2.0",
            "_view_name": "StyleView",
            "description_width": ""
          }
        }
      }
    }
  },
  "nbformat": 4,
  "nbformat_minor": 0
}